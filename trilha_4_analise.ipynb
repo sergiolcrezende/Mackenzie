{
  "cells": [
    {
      "cell_type": "markdown",
      "metadata": {
        "id": "view-in-github",
        "colab_type": "text"
      },
      "source": [
        "<a href=\"https://colab.research.google.com/github/sergiolcrezende/Mackenzie/blob/main/trilha_4_analise.ipynb\" target=\"_parent\"><img src=\"https://colab.research.google.com/assets/colab-badge.svg\" alt=\"Open In Colab\"/></a>"
      ]
    },
    {
      "cell_type": "code",
      "execution_count": 5,
      "metadata": {
        "id": "AAgLmNinwTv-"
      },
      "outputs": [],
      "source": [
        "import numpy as np\n",
        "import pandas as pd\n",
        "import matplotlib.pyplot as plt\n",
        "%matplotlib inline\n",
        "import seaborn as sns"
      ]
    },
    {
      "cell_type": "code",
      "execution_count": 75,
      "metadata": {
        "colab": {
          "base_uri": "https://localhost:8080/",
          "height": 1000
        },
        "id": "HZ-UgJKmwnYL",
        "outputId": "6b92001f-9bc2-4c4d-9352-0f88d1d56451"
      },
      "outputs": [
        {
          "output_type": "display_data",
          "data": {
            "text/plain": [
              "(51, 4)"
            ]
          },
          "metadata": {}
        },
        {
          "output_type": "display_data",
          "data": {
            "text/plain": [
              "'head:'"
            ],
            "application/vnd.google.colaboratory.intrinsic+json": {
              "type": "string"
            }
          },
          "metadata": {}
        },
        {
          "output_type": "display_data",
          "data": {
            "text/plain": [
              "         date  price  percentChange  change\n",
              "0  2018-01-01  64.73       7.133400    4.31\n",
              "1  2018-02-01  61.64      -4.773675   -3.09\n",
              "2  2018-03-01  64.94       5.353666    3.30\n",
              "3  2018-04-01  68.57       5.589775    3.63\n",
              "4  2018-05-01  67.04      -2.231296   -1.53"
            ],
            "text/html": [
              "\n",
              "  <div id=\"df-57b7e23e-346c-4f63-bfa9-6978a2175f3e\">\n",
              "    <div class=\"colab-df-container\">\n",
              "      <div>\n",
              "<style scoped>\n",
              "    .dataframe tbody tr th:only-of-type {\n",
              "        vertical-align: middle;\n",
              "    }\n",
              "\n",
              "    .dataframe tbody tr th {\n",
              "        vertical-align: top;\n",
              "    }\n",
              "\n",
              "    .dataframe thead th {\n",
              "        text-align: right;\n",
              "    }\n",
              "</style>\n",
              "<table border=\"1\" class=\"dataframe\">\n",
              "  <thead>\n",
              "    <tr style=\"text-align: right;\">\n",
              "      <th></th>\n",
              "      <th>date</th>\n",
              "      <th>price</th>\n",
              "      <th>percentChange</th>\n",
              "      <th>change</th>\n",
              "    </tr>\n",
              "  </thead>\n",
              "  <tbody>\n",
              "    <tr>\n",
              "      <th>0</th>\n",
              "      <td>2018-01-01</td>\n",
              "      <td>64.73</td>\n",
              "      <td>7.133400</td>\n",
              "      <td>4.31</td>\n",
              "    </tr>\n",
              "    <tr>\n",
              "      <th>1</th>\n",
              "      <td>2018-02-01</td>\n",
              "      <td>61.64</td>\n",
              "      <td>-4.773675</td>\n",
              "      <td>-3.09</td>\n",
              "    </tr>\n",
              "    <tr>\n",
              "      <th>2</th>\n",
              "      <td>2018-03-01</td>\n",
              "      <td>64.94</td>\n",
              "      <td>5.353666</td>\n",
              "      <td>3.30</td>\n",
              "    </tr>\n",
              "    <tr>\n",
              "      <th>3</th>\n",
              "      <td>2018-04-01</td>\n",
              "      <td>68.57</td>\n",
              "      <td>5.589775</td>\n",
              "      <td>3.63</td>\n",
              "    </tr>\n",
              "    <tr>\n",
              "      <th>4</th>\n",
              "      <td>2018-05-01</td>\n",
              "      <td>67.04</td>\n",
              "      <td>-2.231296</td>\n",
              "      <td>-1.53</td>\n",
              "    </tr>\n",
              "  </tbody>\n",
              "</table>\n",
              "</div>\n",
              "      <button class=\"colab-df-convert\" onclick=\"convertToInteractive('df-57b7e23e-346c-4f63-bfa9-6978a2175f3e')\"\n",
              "              title=\"Convert this dataframe to an interactive table.\"\n",
              "              style=\"display:none;\">\n",
              "        \n",
              "  <svg xmlns=\"http://www.w3.org/2000/svg\" height=\"24px\"viewBox=\"0 0 24 24\"\n",
              "       width=\"24px\">\n",
              "    <path d=\"M0 0h24v24H0V0z\" fill=\"none\"/>\n",
              "    <path d=\"M18.56 5.44l.94 2.06.94-2.06 2.06-.94-2.06-.94-.94-2.06-.94 2.06-2.06.94zm-11 1L8.5 8.5l.94-2.06 2.06-.94-2.06-.94L8.5 2.5l-.94 2.06-2.06.94zm10 10l.94 2.06.94-2.06 2.06-.94-2.06-.94-.94-2.06-.94 2.06-2.06.94z\"/><path d=\"M17.41 7.96l-1.37-1.37c-.4-.4-.92-.59-1.43-.59-.52 0-1.04.2-1.43.59L10.3 9.45l-7.72 7.72c-.78.78-.78 2.05 0 2.83L4 21.41c.39.39.9.59 1.41.59.51 0 1.02-.2 1.41-.59l7.78-7.78 2.81-2.81c.8-.78.8-2.07 0-2.86zM5.41 20L4 18.59l7.72-7.72 1.47 1.35L5.41 20z\"/>\n",
              "  </svg>\n",
              "      </button>\n",
              "      \n",
              "  <style>\n",
              "    .colab-df-container {\n",
              "      display:flex;\n",
              "      flex-wrap:wrap;\n",
              "      gap: 12px;\n",
              "    }\n",
              "\n",
              "    .colab-df-convert {\n",
              "      background-color: #E8F0FE;\n",
              "      border: none;\n",
              "      border-radius: 50%;\n",
              "      cursor: pointer;\n",
              "      display: none;\n",
              "      fill: #1967D2;\n",
              "      height: 32px;\n",
              "      padding: 0 0 0 0;\n",
              "      width: 32px;\n",
              "    }\n",
              "\n",
              "    .colab-df-convert:hover {\n",
              "      background-color: #E2EBFA;\n",
              "      box-shadow: 0px 1px 2px rgba(60, 64, 67, 0.3), 0px 1px 3px 1px rgba(60, 64, 67, 0.15);\n",
              "      fill: #174EA6;\n",
              "    }\n",
              "\n",
              "    [theme=dark] .colab-df-convert {\n",
              "      background-color: #3B4455;\n",
              "      fill: #D2E3FC;\n",
              "    }\n",
              "\n",
              "    [theme=dark] .colab-df-convert:hover {\n",
              "      background-color: #434B5C;\n",
              "      box-shadow: 0px 1px 3px 1px rgba(0, 0, 0, 0.15);\n",
              "      filter: drop-shadow(0px 1px 2px rgba(0, 0, 0, 0.3));\n",
              "      fill: #FFFFFF;\n",
              "    }\n",
              "  </style>\n",
              "\n",
              "      <script>\n",
              "        const buttonEl =\n",
              "          document.querySelector('#df-57b7e23e-346c-4f63-bfa9-6978a2175f3e button.colab-df-convert');\n",
              "        buttonEl.style.display =\n",
              "          google.colab.kernel.accessAllowed ? 'block' : 'none';\n",
              "\n",
              "        async function convertToInteractive(key) {\n",
              "          const element = document.querySelector('#df-57b7e23e-346c-4f63-bfa9-6978a2175f3e');\n",
              "          const dataTable =\n",
              "            await google.colab.kernel.invokeFunction('convertToInteractive',\n",
              "                                                     [key], {});\n",
              "          if (!dataTable) return;\n",
              "\n",
              "          const docLinkHtml = 'Like what you see? Visit the ' +\n",
              "            '<a target=\"_blank\" href=https://colab.research.google.com/notebooks/data_table.ipynb>data table notebook</a>'\n",
              "            + ' to learn more about interactive tables.';\n",
              "          element.innerHTML = '';\n",
              "          dataTable['output_type'] = 'display_data';\n",
              "          await google.colab.output.renderOutput(dataTable, element);\n",
              "          const docLink = document.createElement('div');\n",
              "          docLink.innerHTML = docLinkHtml;\n",
              "          element.appendChild(docLink);\n",
              "        }\n",
              "      </script>\n",
              "    </div>\n",
              "  </div>\n",
              "  "
            ]
          },
          "metadata": {}
        },
        {
          "output_type": "display_data",
          "data": {
            "text/plain": [
              "          date   price  percentChange  change\n",
              "46  2021-11-01   65.85     -19.479090  -15.93\n",
              "47  2021-12-01   74.88      13.712984    9.03\n",
              "48  2022-01-03   86.49      15.504808   11.61\n",
              "49  2022-02-01   95.72      10.671754    9.23\n",
              "50  2022-03-01  109.33      14.218554   13.61"
            ],
            "text/html": [
              "\n",
              "  <div id=\"df-4b37a4dc-b1e7-4b50-aa37-c4e783c85ee0\">\n",
              "    <div class=\"colab-df-container\">\n",
              "      <div>\n",
              "<style scoped>\n",
              "    .dataframe tbody tr th:only-of-type {\n",
              "        vertical-align: middle;\n",
              "    }\n",
              "\n",
              "    .dataframe tbody tr th {\n",
              "        vertical-align: top;\n",
              "    }\n",
              "\n",
              "    .dataframe thead th {\n",
              "        text-align: right;\n",
              "    }\n",
              "</style>\n",
              "<table border=\"1\" class=\"dataframe\">\n",
              "  <thead>\n",
              "    <tr style=\"text-align: right;\">\n",
              "      <th></th>\n",
              "      <th>date</th>\n",
              "      <th>price</th>\n",
              "      <th>percentChange</th>\n",
              "      <th>change</th>\n",
              "    </tr>\n",
              "  </thead>\n",
              "  <tbody>\n",
              "    <tr>\n",
              "      <th>46</th>\n",
              "      <td>2021-11-01</td>\n",
              "      <td>65.85</td>\n",
              "      <td>-19.479090</td>\n",
              "      <td>-15.93</td>\n",
              "    </tr>\n",
              "    <tr>\n",
              "      <th>47</th>\n",
              "      <td>2021-12-01</td>\n",
              "      <td>74.88</td>\n",
              "      <td>13.712984</td>\n",
              "      <td>9.03</td>\n",
              "    </tr>\n",
              "    <tr>\n",
              "      <th>48</th>\n",
              "      <td>2022-01-03</td>\n",
              "      <td>86.49</td>\n",
              "      <td>15.504808</td>\n",
              "      <td>11.61</td>\n",
              "    </tr>\n",
              "    <tr>\n",
              "      <th>49</th>\n",
              "      <td>2022-02-01</td>\n",
              "      <td>95.72</td>\n",
              "      <td>10.671754</td>\n",
              "      <td>9.23</td>\n",
              "    </tr>\n",
              "    <tr>\n",
              "      <th>50</th>\n",
              "      <td>2022-03-01</td>\n",
              "      <td>109.33</td>\n",
              "      <td>14.218554</td>\n",
              "      <td>13.61</td>\n",
              "    </tr>\n",
              "  </tbody>\n",
              "</table>\n",
              "</div>\n",
              "      <button class=\"colab-df-convert\" onclick=\"convertToInteractive('df-4b37a4dc-b1e7-4b50-aa37-c4e783c85ee0')\"\n",
              "              title=\"Convert this dataframe to an interactive table.\"\n",
              "              style=\"display:none;\">\n",
              "        \n",
              "  <svg xmlns=\"http://www.w3.org/2000/svg\" height=\"24px\"viewBox=\"0 0 24 24\"\n",
              "       width=\"24px\">\n",
              "    <path d=\"M0 0h24v24H0V0z\" fill=\"none\"/>\n",
              "    <path d=\"M18.56 5.44l.94 2.06.94-2.06 2.06-.94-2.06-.94-.94-2.06-.94 2.06-2.06.94zm-11 1L8.5 8.5l.94-2.06 2.06-.94-2.06-.94L8.5 2.5l-.94 2.06-2.06.94zm10 10l.94 2.06.94-2.06 2.06-.94-2.06-.94-.94-2.06-.94 2.06-2.06.94z\"/><path d=\"M17.41 7.96l-1.37-1.37c-.4-.4-.92-.59-1.43-.59-.52 0-1.04.2-1.43.59L10.3 9.45l-7.72 7.72c-.78.78-.78 2.05 0 2.83L4 21.41c.39.39.9.59 1.41.59.51 0 1.02-.2 1.41-.59l7.78-7.78 2.81-2.81c.8-.78.8-2.07 0-2.86zM5.41 20L4 18.59l7.72-7.72 1.47 1.35L5.41 20z\"/>\n",
              "  </svg>\n",
              "      </button>\n",
              "      \n",
              "  <style>\n",
              "    .colab-df-container {\n",
              "      display:flex;\n",
              "      flex-wrap:wrap;\n",
              "      gap: 12px;\n",
              "    }\n",
              "\n",
              "    .colab-df-convert {\n",
              "      background-color: #E8F0FE;\n",
              "      border: none;\n",
              "      border-radius: 50%;\n",
              "      cursor: pointer;\n",
              "      display: none;\n",
              "      fill: #1967D2;\n",
              "      height: 32px;\n",
              "      padding: 0 0 0 0;\n",
              "      width: 32px;\n",
              "    }\n",
              "\n",
              "    .colab-df-convert:hover {\n",
              "      background-color: #E2EBFA;\n",
              "      box-shadow: 0px 1px 2px rgba(60, 64, 67, 0.3), 0px 1px 3px 1px rgba(60, 64, 67, 0.15);\n",
              "      fill: #174EA6;\n",
              "    }\n",
              "\n",
              "    [theme=dark] .colab-df-convert {\n",
              "      background-color: #3B4455;\n",
              "      fill: #D2E3FC;\n",
              "    }\n",
              "\n",
              "    [theme=dark] .colab-df-convert:hover {\n",
              "      background-color: #434B5C;\n",
              "      box-shadow: 0px 1px 3px 1px rgba(0, 0, 0, 0.15);\n",
              "      filter: drop-shadow(0px 1px 2px rgba(0, 0, 0, 0.3));\n",
              "      fill: #FFFFFF;\n",
              "    }\n",
              "  </style>\n",
              "\n",
              "      <script>\n",
              "        const buttonEl =\n",
              "          document.querySelector('#df-4b37a4dc-b1e7-4b50-aa37-c4e783c85ee0 button.colab-df-convert');\n",
              "        buttonEl.style.display =\n",
              "          google.colab.kernel.accessAllowed ? 'block' : 'none';\n",
              "\n",
              "        async function convertToInteractive(key) {\n",
              "          const element = document.querySelector('#df-4b37a4dc-b1e7-4b50-aa37-c4e783c85ee0');\n",
              "          const dataTable =\n",
              "            await google.colab.kernel.invokeFunction('convertToInteractive',\n",
              "                                                     [key], {});\n",
              "          if (!dataTable) return;\n",
              "\n",
              "          const docLinkHtml = 'Like what you see? Visit the ' +\n",
              "            '<a target=\"_blank\" href=https://colab.research.google.com/notebooks/data_table.ipynb>data table notebook</a>'\n",
              "            + ' to learn more about interactive tables.';\n",
              "          element.innerHTML = '';\n",
              "          dataTable['output_type'] = 'display_data';\n",
              "          await google.colab.output.renderOutput(dataTable, element);\n",
              "          const docLink = document.createElement('div');\n",
              "          docLink.innerHTML = docLinkHtml;\n",
              "          element.appendChild(docLink);\n",
              "        }\n",
              "      </script>\n",
              "    </div>\n",
              "  </div>\n",
              "  "
            ]
          },
          "metadata": {}
        },
        {
          "output_type": "display_data",
          "data": {
            "text/plain": [
              "64.7300     1\n",
              "59.1600     1\n",
              "35.4900     1\n",
              "39.2700     1\n",
              "40.2700     1\n",
              "42.6100     1\n",
              "40.2200     1\n",
              "35.7900     1\n",
              "45.3400     1\n",
              "48.5200     1\n",
              "52.2000     1\n",
              "61.5000     1\n",
              "63.5800     1\n",
              "20.4800     1\n",
              "66.9300     1\n",
              "73.4700     1\n",
              "73.9500     1\n",
              "68.5000     1\n",
              "75.0300     1\n",
              "81.7800     1\n",
              "65.8500     1\n",
              "74.8800     1\n",
              "86.4900     1\n",
              "95.7200     1\n",
              "18.8400     1\n",
              "44.7600     1\n",
              "61.6400     1\n",
              "53.7900     1\n",
              "64.9400     1\n",
              "68.5700     1\n",
              "67.0400     1\n",
              "74.1500     1\n",
              "68.7600     1\n",
              "69.9977     1\n",
              "73.5992     1\n",
              "65.3100     1\n",
              "50.9300     1\n",
              "45.4100     1\n",
              "57.2200     1\n",
              "51.5600     1\n",
              "60.1400     1\n",
              "63.9100     1\n",
              "53.5000     1\n",
              "59.4601     1\n",
              "58.5800     1\n",
              "55.1000     1\n",
              "54.0700     1\n",
              "54.1800     1\n",
              "55.4872     1\n",
              "60.7556     1\n",
              "109.3300    1\n",
              "Name: price, dtype: int64"
            ]
          },
          "metadata": {}
        },
        {
          "output_type": "display_data",
          "data": {
            "text/plain": [
              "0"
            ]
          },
          "metadata": {}
        },
        {
          "output_type": "display_data",
          "data": {
            "text/plain": [
              "'2018-01-01'"
            ],
            "application/vnd.google.colaboratory.intrinsic+json": {
              "type": "string"
            }
          },
          "metadata": {}
        },
        {
          "output_type": "display_data",
          "data": {
            "text/plain": [
              "'2022-03-01'"
            ],
            "application/vnd.google.colaboratory.intrinsic+json": {
              "type": "string"
            }
          },
          "metadata": {}
        }
      ],
      "source": [
        "bovespa = pd.read_csv('https://raw.githubusercontent.com/sergiolcrezende/Mackenzie/main/crude-oil-price.v4.csv')\n",
        "\n",
        "display(bovespa.shape)\n",
        "display('head:',bovespa.head())\n",
        "display(bovespa.tail())\n",
        "display(bovespa.price.value_counts())\n",
        "display(bovespa.date.duplicated().sum())\n",
        "display(bovespa.date.min(),bovespa.date.max())\n"
      ]
    },
    {
      "cell_type": "code",
      "source": [
        "#display(1,bovespa.date)"
      ],
      "metadata": {
        "id": "bVIoCEAniQPG"
      },
      "execution_count": 7,
      "outputs": []
    },
    {
      "cell_type": "code",
      "source": [
        "IBOV = pd.read_csv('https://raw.githubusercontent.com/sergiolcrezende/Mackenzie/main/PETR4.dados.historicos.v3.csv')\n",
        "\n",
        "display(IBOV.shape)\n",
        "display(IBOV.head())\n"
      ],
      "metadata": {
        "colab": {
          "base_uri": "https://localhost:8080/",
          "height": 223
        },
        "id": "SZcEy3XGsZNX",
        "outputId": "d391a6fa-03c3-4f71-d672-4fad38f6def2"
      },
      "execution_count": 76,
      "outputs": [
        {
          "output_type": "display_data",
          "data": {
            "text/plain": [
              "(1037, 7)"
            ]
          },
          "metadata": {}
        },
        {
          "output_type": "display_data",
          "data": {
            "text/plain": [
              "         data  ultimo  abertura  maxima  minima   Volume Variacao\n",
              "0  11/03/2022   32.49     33.91   34.38   32.07   92.15M   -3.59%\n",
              "1  10/03/2022   33.70     32.60   34.60   32.52  136.44M    3.50%\n",
              "2  09/03/2022   32.56     32.60   32.82   31.74   87.78M    0.31%\n",
              "3  08/03/2022   32.46     32.00   32.97   31.51  111.63M    2.08%\n",
              "4  07/03/2022   31.80     34.50   34.60   31.63  110.95M   -7.10%"
            ],
            "text/html": [
              "\n",
              "  <div id=\"df-308109fe-5a8b-4d87-a0fa-76a9af6b108d\">\n",
              "    <div class=\"colab-df-container\">\n",
              "      <div>\n",
              "<style scoped>\n",
              "    .dataframe tbody tr th:only-of-type {\n",
              "        vertical-align: middle;\n",
              "    }\n",
              "\n",
              "    .dataframe tbody tr th {\n",
              "        vertical-align: top;\n",
              "    }\n",
              "\n",
              "    .dataframe thead th {\n",
              "        text-align: right;\n",
              "    }\n",
              "</style>\n",
              "<table border=\"1\" class=\"dataframe\">\n",
              "  <thead>\n",
              "    <tr style=\"text-align: right;\">\n",
              "      <th></th>\n",
              "      <th>data</th>\n",
              "      <th>ultimo</th>\n",
              "      <th>abertura</th>\n",
              "      <th>maxima</th>\n",
              "      <th>minima</th>\n",
              "      <th>Volume</th>\n",
              "      <th>Variacao</th>\n",
              "    </tr>\n",
              "  </thead>\n",
              "  <tbody>\n",
              "    <tr>\n",
              "      <th>0</th>\n",
              "      <td>11/03/2022</td>\n",
              "      <td>32.49</td>\n",
              "      <td>33.91</td>\n",
              "      <td>34.38</td>\n",
              "      <td>32.07</td>\n",
              "      <td>92.15M</td>\n",
              "      <td>-3.59%</td>\n",
              "    </tr>\n",
              "    <tr>\n",
              "      <th>1</th>\n",
              "      <td>10/03/2022</td>\n",
              "      <td>33.70</td>\n",
              "      <td>32.60</td>\n",
              "      <td>34.60</td>\n",
              "      <td>32.52</td>\n",
              "      <td>136.44M</td>\n",
              "      <td>3.50%</td>\n",
              "    </tr>\n",
              "    <tr>\n",
              "      <th>2</th>\n",
              "      <td>09/03/2022</td>\n",
              "      <td>32.56</td>\n",
              "      <td>32.60</td>\n",
              "      <td>32.82</td>\n",
              "      <td>31.74</td>\n",
              "      <td>87.78M</td>\n",
              "      <td>0.31%</td>\n",
              "    </tr>\n",
              "    <tr>\n",
              "      <th>3</th>\n",
              "      <td>08/03/2022</td>\n",
              "      <td>32.46</td>\n",
              "      <td>32.00</td>\n",
              "      <td>32.97</td>\n",
              "      <td>31.51</td>\n",
              "      <td>111.63M</td>\n",
              "      <td>2.08%</td>\n",
              "    </tr>\n",
              "    <tr>\n",
              "      <th>4</th>\n",
              "      <td>07/03/2022</td>\n",
              "      <td>31.80</td>\n",
              "      <td>34.50</td>\n",
              "      <td>34.60</td>\n",
              "      <td>31.63</td>\n",
              "      <td>110.95M</td>\n",
              "      <td>-7.10%</td>\n",
              "    </tr>\n",
              "  </tbody>\n",
              "</table>\n",
              "</div>\n",
              "      <button class=\"colab-df-convert\" onclick=\"convertToInteractive('df-308109fe-5a8b-4d87-a0fa-76a9af6b108d')\"\n",
              "              title=\"Convert this dataframe to an interactive table.\"\n",
              "              style=\"display:none;\">\n",
              "        \n",
              "  <svg xmlns=\"http://www.w3.org/2000/svg\" height=\"24px\"viewBox=\"0 0 24 24\"\n",
              "       width=\"24px\">\n",
              "    <path d=\"M0 0h24v24H0V0z\" fill=\"none\"/>\n",
              "    <path d=\"M18.56 5.44l.94 2.06.94-2.06 2.06-.94-2.06-.94-.94-2.06-.94 2.06-2.06.94zm-11 1L8.5 8.5l.94-2.06 2.06-.94-2.06-.94L8.5 2.5l-.94 2.06-2.06.94zm10 10l.94 2.06.94-2.06 2.06-.94-2.06-.94-.94-2.06-.94 2.06-2.06.94z\"/><path d=\"M17.41 7.96l-1.37-1.37c-.4-.4-.92-.59-1.43-.59-.52 0-1.04.2-1.43.59L10.3 9.45l-7.72 7.72c-.78.78-.78 2.05 0 2.83L4 21.41c.39.39.9.59 1.41.59.51 0 1.02-.2 1.41-.59l7.78-7.78 2.81-2.81c.8-.78.8-2.07 0-2.86zM5.41 20L4 18.59l7.72-7.72 1.47 1.35L5.41 20z\"/>\n",
              "  </svg>\n",
              "      </button>\n",
              "      \n",
              "  <style>\n",
              "    .colab-df-container {\n",
              "      display:flex;\n",
              "      flex-wrap:wrap;\n",
              "      gap: 12px;\n",
              "    }\n",
              "\n",
              "    .colab-df-convert {\n",
              "      background-color: #E8F0FE;\n",
              "      border: none;\n",
              "      border-radius: 50%;\n",
              "      cursor: pointer;\n",
              "      display: none;\n",
              "      fill: #1967D2;\n",
              "      height: 32px;\n",
              "      padding: 0 0 0 0;\n",
              "      width: 32px;\n",
              "    }\n",
              "\n",
              "    .colab-df-convert:hover {\n",
              "      background-color: #E2EBFA;\n",
              "      box-shadow: 0px 1px 2px rgba(60, 64, 67, 0.3), 0px 1px 3px 1px rgba(60, 64, 67, 0.15);\n",
              "      fill: #174EA6;\n",
              "    }\n",
              "\n",
              "    [theme=dark] .colab-df-convert {\n",
              "      background-color: #3B4455;\n",
              "      fill: #D2E3FC;\n",
              "    }\n",
              "\n",
              "    [theme=dark] .colab-df-convert:hover {\n",
              "      background-color: #434B5C;\n",
              "      box-shadow: 0px 1px 3px 1px rgba(0, 0, 0, 0.15);\n",
              "      filter: drop-shadow(0px 1px 2px rgba(0, 0, 0, 0.3));\n",
              "      fill: #FFFFFF;\n",
              "    }\n",
              "  </style>\n",
              "\n",
              "      <script>\n",
              "        const buttonEl =\n",
              "          document.querySelector('#df-308109fe-5a8b-4d87-a0fa-76a9af6b108d button.colab-df-convert');\n",
              "        buttonEl.style.display =\n",
              "          google.colab.kernel.accessAllowed ? 'block' : 'none';\n",
              "\n",
              "        async function convertToInteractive(key) {\n",
              "          const element = document.querySelector('#df-308109fe-5a8b-4d87-a0fa-76a9af6b108d');\n",
              "          const dataTable =\n",
              "            await google.colab.kernel.invokeFunction('convertToInteractive',\n",
              "                                                     [key], {});\n",
              "          if (!dataTable) return;\n",
              "\n",
              "          const docLinkHtml = 'Like what you see? Visit the ' +\n",
              "            '<a target=\"_blank\" href=https://colab.research.google.com/notebooks/data_table.ipynb>data table notebook</a>'\n",
              "            + ' to learn more about interactive tables.';\n",
              "          element.innerHTML = '';\n",
              "          dataTable['output_type'] = 'display_data';\n",
              "          await google.colab.output.renderOutput(dataTable, element);\n",
              "          const docLink = document.createElement('div');\n",
              "          docLink.innerHTML = docLinkHtml;\n",
              "          element.appendChild(docLink);\n",
              "        }\n",
              "      </script>\n",
              "    </div>\n",
              "  </div>\n",
              "  "
            ]
          },
          "metadata": {}
        }
      ]
    },
    {
      "cell_type": "code",
      "source": [
        "IBOV = IBOV.rename(columns={'data': 'date'})\n",
        "#IBOV = IBOV.rename_axis('data',axis='columns') # este rename é opcional \n",
        "display(1,IBOV.head())\n",
        "\n",
        "display(IBOV.date.min(),bovespa.date.max())"
      ],
      "metadata": {
        "colab": {
          "base_uri": "https://localhost:8080/",
          "height": 261
        },
        "id": "cd92yOMO6PNC",
        "outputId": "753e4b2a-9d40-4487-c5f4-d4ce3dcc5105"
      },
      "execution_count": 77,
      "outputs": [
        {
          "output_type": "display_data",
          "data": {
            "text/plain": [
              "1"
            ]
          },
          "metadata": {}
        },
        {
          "output_type": "display_data",
          "data": {
            "text/plain": [
              "         date  ultimo  abertura  maxima  minima   Volume Variacao\n",
              "0  11/03/2022   32.49     33.91   34.38   32.07   92.15M   -3.59%\n",
              "1  10/03/2022   33.70     32.60   34.60   32.52  136.44M    3.50%\n",
              "2  09/03/2022   32.56     32.60   32.82   31.74   87.78M    0.31%\n",
              "3  08/03/2022   32.46     32.00   32.97   31.51  111.63M    2.08%\n",
              "4  07/03/2022   31.80     34.50   34.60   31.63  110.95M   -7.10%"
            ],
            "text/html": [
              "\n",
              "  <div id=\"df-89edf2e9-84c9-4524-992f-9ac721cae1ea\">\n",
              "    <div class=\"colab-df-container\">\n",
              "      <div>\n",
              "<style scoped>\n",
              "    .dataframe tbody tr th:only-of-type {\n",
              "        vertical-align: middle;\n",
              "    }\n",
              "\n",
              "    .dataframe tbody tr th {\n",
              "        vertical-align: top;\n",
              "    }\n",
              "\n",
              "    .dataframe thead th {\n",
              "        text-align: right;\n",
              "    }\n",
              "</style>\n",
              "<table border=\"1\" class=\"dataframe\">\n",
              "  <thead>\n",
              "    <tr style=\"text-align: right;\">\n",
              "      <th></th>\n",
              "      <th>date</th>\n",
              "      <th>ultimo</th>\n",
              "      <th>abertura</th>\n",
              "      <th>maxima</th>\n",
              "      <th>minima</th>\n",
              "      <th>Volume</th>\n",
              "      <th>Variacao</th>\n",
              "    </tr>\n",
              "  </thead>\n",
              "  <tbody>\n",
              "    <tr>\n",
              "      <th>0</th>\n",
              "      <td>11/03/2022</td>\n",
              "      <td>32.49</td>\n",
              "      <td>33.91</td>\n",
              "      <td>34.38</td>\n",
              "      <td>32.07</td>\n",
              "      <td>92.15M</td>\n",
              "      <td>-3.59%</td>\n",
              "    </tr>\n",
              "    <tr>\n",
              "      <th>1</th>\n",
              "      <td>10/03/2022</td>\n",
              "      <td>33.70</td>\n",
              "      <td>32.60</td>\n",
              "      <td>34.60</td>\n",
              "      <td>32.52</td>\n",
              "      <td>136.44M</td>\n",
              "      <td>3.50%</td>\n",
              "    </tr>\n",
              "    <tr>\n",
              "      <th>2</th>\n",
              "      <td>09/03/2022</td>\n",
              "      <td>32.56</td>\n",
              "      <td>32.60</td>\n",
              "      <td>32.82</td>\n",
              "      <td>31.74</td>\n",
              "      <td>87.78M</td>\n",
              "      <td>0.31%</td>\n",
              "    </tr>\n",
              "    <tr>\n",
              "      <th>3</th>\n",
              "      <td>08/03/2022</td>\n",
              "      <td>32.46</td>\n",
              "      <td>32.00</td>\n",
              "      <td>32.97</td>\n",
              "      <td>31.51</td>\n",
              "      <td>111.63M</td>\n",
              "      <td>2.08%</td>\n",
              "    </tr>\n",
              "    <tr>\n",
              "      <th>4</th>\n",
              "      <td>07/03/2022</td>\n",
              "      <td>31.80</td>\n",
              "      <td>34.50</td>\n",
              "      <td>34.60</td>\n",
              "      <td>31.63</td>\n",
              "      <td>110.95M</td>\n",
              "      <td>-7.10%</td>\n",
              "    </tr>\n",
              "  </tbody>\n",
              "</table>\n",
              "</div>\n",
              "      <button class=\"colab-df-convert\" onclick=\"convertToInteractive('df-89edf2e9-84c9-4524-992f-9ac721cae1ea')\"\n",
              "              title=\"Convert this dataframe to an interactive table.\"\n",
              "              style=\"display:none;\">\n",
              "        \n",
              "  <svg xmlns=\"http://www.w3.org/2000/svg\" height=\"24px\"viewBox=\"0 0 24 24\"\n",
              "       width=\"24px\">\n",
              "    <path d=\"M0 0h24v24H0V0z\" fill=\"none\"/>\n",
              "    <path d=\"M18.56 5.44l.94 2.06.94-2.06 2.06-.94-2.06-.94-.94-2.06-.94 2.06-2.06.94zm-11 1L8.5 8.5l.94-2.06 2.06-.94-2.06-.94L8.5 2.5l-.94 2.06-2.06.94zm10 10l.94 2.06.94-2.06 2.06-.94-2.06-.94-.94-2.06-.94 2.06-2.06.94z\"/><path d=\"M17.41 7.96l-1.37-1.37c-.4-.4-.92-.59-1.43-.59-.52 0-1.04.2-1.43.59L10.3 9.45l-7.72 7.72c-.78.78-.78 2.05 0 2.83L4 21.41c.39.39.9.59 1.41.59.51 0 1.02-.2 1.41-.59l7.78-7.78 2.81-2.81c.8-.78.8-2.07 0-2.86zM5.41 20L4 18.59l7.72-7.72 1.47 1.35L5.41 20z\"/>\n",
              "  </svg>\n",
              "      </button>\n",
              "      \n",
              "  <style>\n",
              "    .colab-df-container {\n",
              "      display:flex;\n",
              "      flex-wrap:wrap;\n",
              "      gap: 12px;\n",
              "    }\n",
              "\n",
              "    .colab-df-convert {\n",
              "      background-color: #E8F0FE;\n",
              "      border: none;\n",
              "      border-radius: 50%;\n",
              "      cursor: pointer;\n",
              "      display: none;\n",
              "      fill: #1967D2;\n",
              "      height: 32px;\n",
              "      padding: 0 0 0 0;\n",
              "      width: 32px;\n",
              "    }\n",
              "\n",
              "    .colab-df-convert:hover {\n",
              "      background-color: #E2EBFA;\n",
              "      box-shadow: 0px 1px 2px rgba(60, 64, 67, 0.3), 0px 1px 3px 1px rgba(60, 64, 67, 0.15);\n",
              "      fill: #174EA6;\n",
              "    }\n",
              "\n",
              "    [theme=dark] .colab-df-convert {\n",
              "      background-color: #3B4455;\n",
              "      fill: #D2E3FC;\n",
              "    }\n",
              "\n",
              "    [theme=dark] .colab-df-convert:hover {\n",
              "      background-color: #434B5C;\n",
              "      box-shadow: 0px 1px 3px 1px rgba(0, 0, 0, 0.15);\n",
              "      filter: drop-shadow(0px 1px 2px rgba(0, 0, 0, 0.3));\n",
              "      fill: #FFFFFF;\n",
              "    }\n",
              "  </style>\n",
              "\n",
              "      <script>\n",
              "        const buttonEl =\n",
              "          document.querySelector('#df-89edf2e9-84c9-4524-992f-9ac721cae1ea button.colab-df-convert');\n",
              "        buttonEl.style.display =\n",
              "          google.colab.kernel.accessAllowed ? 'block' : 'none';\n",
              "\n",
              "        async function convertToInteractive(key) {\n",
              "          const element = document.querySelector('#df-89edf2e9-84c9-4524-992f-9ac721cae1ea');\n",
              "          const dataTable =\n",
              "            await google.colab.kernel.invokeFunction('convertToInteractive',\n",
              "                                                     [key], {});\n",
              "          if (!dataTable) return;\n",
              "\n",
              "          const docLinkHtml = 'Like what you see? Visit the ' +\n",
              "            '<a target=\"_blank\" href=https://colab.research.google.com/notebooks/data_table.ipynb>data table notebook</a>'\n",
              "            + ' to learn more about interactive tables.';\n",
              "          element.innerHTML = '';\n",
              "          dataTable['output_type'] = 'display_data';\n",
              "          await google.colab.output.renderOutput(dataTable, element);\n",
              "          const docLink = document.createElement('div');\n",
              "          docLink.innerHTML = docLinkHtml;\n",
              "          element.appendChild(docLink);\n",
              "        }\n",
              "      </script>\n",
              "    </div>\n",
              "  </div>\n",
              "  "
            ]
          },
          "metadata": {}
        },
        {
          "output_type": "display_data",
          "data": {
            "text/plain": [
              "'01/02/2018'"
            ],
            "application/vnd.google.colaboratory.intrinsic+json": {
              "type": "string"
            }
          },
          "metadata": {}
        },
        {
          "output_type": "display_data",
          "data": {
            "text/plain": [
              "'2022-03-01'"
            ],
            "application/vnd.google.colaboratory.intrinsic+json": {
              "type": "string"
            }
          },
          "metadata": {}
        }
      ]
    },
    {
      "cell_type": "code",
      "execution_count": 79,
      "metadata": {
        "colab": {
          "base_uri": "https://localhost:8080/",
          "height": 121
        },
        "id": "jckffnOHzVoW",
        "outputId": "a7c38d5e-551e-41c6-c2a3-d8e04aa5ba39"
      },
      "outputs": [
        {
          "output_type": "display_data",
          "data": {
            "text/plain": [
              "2"
            ]
          },
          "metadata": {}
        },
        {
          "output_type": "display_data",
          "data": {
            "text/plain": [
              "date             datetime64[ns]\n",
              "price                   float64\n",
              "percentChange           float64\n",
              "change                  float64\n",
              "dtype: object"
            ]
          },
          "metadata": {}
        }
      ],
      "source": [
        "#display(1, bovespa.dtypes)\n",
        "bovespa.date = pd.to_datetime(bovespa.date, format='%Y-%m-%d',errors='raise')\n",
        "display(2, bovespa.dtypes)"
      ]
    },
    {
      "cell_type": "code",
      "source": [
        "#display(1, IBOV.dtypes)\n",
        "#IBOV.date = pd.to_datetime(IBOV.date, format='%d-%m-%Y',errors='raise')\n",
        "IBOV.date = pd.to_datetime(IBOV.date, format='%d/%m/%Y',errors='raise')\n",
        "display(2, bovespa.dtypes)"
      ],
      "metadata": {
        "colab": {
          "base_uri": "https://localhost:8080/",
          "height": 121
        },
        "id": "qI5GmIlF-e4O",
        "outputId": "488172dd-e8c7-42e9-e7d4-2c070f92c0c6"
      },
      "execution_count": 80,
      "outputs": [
        {
          "output_type": "display_data",
          "data": {
            "text/plain": [
              "2"
            ]
          },
          "metadata": {}
        },
        {
          "output_type": "display_data",
          "data": {
            "text/plain": [
              "date             datetime64[ns]\n",
              "price                   float64\n",
              "percentChange           float64\n",
              "change                  float64\n",
              "dtype: object"
            ]
          },
          "metadata": {}
        }
      ]
    },
    {
      "cell_type": "code",
      "source": [
        "bovespa = pd.merge(bovespa, IBOV[['date','Variacao']], on='date')\n",
        "display(1,bovespa.head())"
      ],
      "metadata": {
        "colab": {
          "base_uri": "https://localhost:8080/",
          "height": 223
        },
        "id": "tuE1GLBY8_KS",
        "outputId": "b556aec9-2450-45df-f27a-247edaef80ee"
      },
      "execution_count": 81,
      "outputs": [
        {
          "output_type": "display_data",
          "data": {
            "text/plain": [
              "1"
            ]
          },
          "metadata": {}
        },
        {
          "output_type": "display_data",
          "data": {
            "text/plain": [
              "        date    price  percentChange  change Variacao\n",
              "0 2018-02-01  61.6400      -4.773675 -3.0900    4.18%\n",
              "1 2018-03-01  64.9400       5.353666  3.3000   -1.99%\n",
              "2 2018-06-01  74.1500      10.605609  7.1100  -14.86%\n",
              "3 2018-08-01  69.9977       1.800029  1.2377    1.42%\n",
              "4 2018-10-01  65.3100     -11.262622 -8.2892   -0.39%"
            ],
            "text/html": [
              "\n",
              "  <div id=\"df-696d47de-67cd-4ab5-af1e-72bdf37ef684\">\n",
              "    <div class=\"colab-df-container\">\n",
              "      <div>\n",
              "<style scoped>\n",
              "    .dataframe tbody tr th:only-of-type {\n",
              "        vertical-align: middle;\n",
              "    }\n",
              "\n",
              "    .dataframe tbody tr th {\n",
              "        vertical-align: top;\n",
              "    }\n",
              "\n",
              "    .dataframe thead th {\n",
              "        text-align: right;\n",
              "    }\n",
              "</style>\n",
              "<table border=\"1\" class=\"dataframe\">\n",
              "  <thead>\n",
              "    <tr style=\"text-align: right;\">\n",
              "      <th></th>\n",
              "      <th>date</th>\n",
              "      <th>price</th>\n",
              "      <th>percentChange</th>\n",
              "      <th>change</th>\n",
              "      <th>Variacao</th>\n",
              "    </tr>\n",
              "  </thead>\n",
              "  <tbody>\n",
              "    <tr>\n",
              "      <th>0</th>\n",
              "      <td>2018-02-01</td>\n",
              "      <td>61.6400</td>\n",
              "      <td>-4.773675</td>\n",
              "      <td>-3.0900</td>\n",
              "      <td>4.18%</td>\n",
              "    </tr>\n",
              "    <tr>\n",
              "      <th>1</th>\n",
              "      <td>2018-03-01</td>\n",
              "      <td>64.9400</td>\n",
              "      <td>5.353666</td>\n",
              "      <td>3.3000</td>\n",
              "      <td>-1.99%</td>\n",
              "    </tr>\n",
              "    <tr>\n",
              "      <th>2</th>\n",
              "      <td>2018-06-01</td>\n",
              "      <td>74.1500</td>\n",
              "      <td>10.605609</td>\n",
              "      <td>7.1100</td>\n",
              "      <td>-14.86%</td>\n",
              "    </tr>\n",
              "    <tr>\n",
              "      <th>3</th>\n",
              "      <td>2018-08-01</td>\n",
              "      <td>69.9977</td>\n",
              "      <td>1.800029</td>\n",
              "      <td>1.2377</td>\n",
              "      <td>1.42%</td>\n",
              "    </tr>\n",
              "    <tr>\n",
              "      <th>4</th>\n",
              "      <td>2018-10-01</td>\n",
              "      <td>65.3100</td>\n",
              "      <td>-11.262622</td>\n",
              "      <td>-8.2892</td>\n",
              "      <td>-0.39%</td>\n",
              "    </tr>\n",
              "  </tbody>\n",
              "</table>\n",
              "</div>\n",
              "      <button class=\"colab-df-convert\" onclick=\"convertToInteractive('df-696d47de-67cd-4ab5-af1e-72bdf37ef684')\"\n",
              "              title=\"Convert this dataframe to an interactive table.\"\n",
              "              style=\"display:none;\">\n",
              "        \n",
              "  <svg xmlns=\"http://www.w3.org/2000/svg\" height=\"24px\"viewBox=\"0 0 24 24\"\n",
              "       width=\"24px\">\n",
              "    <path d=\"M0 0h24v24H0V0z\" fill=\"none\"/>\n",
              "    <path d=\"M18.56 5.44l.94 2.06.94-2.06 2.06-.94-2.06-.94-.94-2.06-.94 2.06-2.06.94zm-11 1L8.5 8.5l.94-2.06 2.06-.94-2.06-.94L8.5 2.5l-.94 2.06-2.06.94zm10 10l.94 2.06.94-2.06 2.06-.94-2.06-.94-.94-2.06-.94 2.06-2.06.94z\"/><path d=\"M17.41 7.96l-1.37-1.37c-.4-.4-.92-.59-1.43-.59-.52 0-1.04.2-1.43.59L10.3 9.45l-7.72 7.72c-.78.78-.78 2.05 0 2.83L4 21.41c.39.39.9.59 1.41.59.51 0 1.02-.2 1.41-.59l7.78-7.78 2.81-2.81c.8-.78.8-2.07 0-2.86zM5.41 20L4 18.59l7.72-7.72 1.47 1.35L5.41 20z\"/>\n",
              "  </svg>\n",
              "      </button>\n",
              "      \n",
              "  <style>\n",
              "    .colab-df-container {\n",
              "      display:flex;\n",
              "      flex-wrap:wrap;\n",
              "      gap: 12px;\n",
              "    }\n",
              "\n",
              "    .colab-df-convert {\n",
              "      background-color: #E8F0FE;\n",
              "      border: none;\n",
              "      border-radius: 50%;\n",
              "      cursor: pointer;\n",
              "      display: none;\n",
              "      fill: #1967D2;\n",
              "      height: 32px;\n",
              "      padding: 0 0 0 0;\n",
              "      width: 32px;\n",
              "    }\n",
              "\n",
              "    .colab-df-convert:hover {\n",
              "      background-color: #E2EBFA;\n",
              "      box-shadow: 0px 1px 2px rgba(60, 64, 67, 0.3), 0px 1px 3px 1px rgba(60, 64, 67, 0.15);\n",
              "      fill: #174EA6;\n",
              "    }\n",
              "\n",
              "    [theme=dark] .colab-df-convert {\n",
              "      background-color: #3B4455;\n",
              "      fill: #D2E3FC;\n",
              "    }\n",
              "\n",
              "    [theme=dark] .colab-df-convert:hover {\n",
              "      background-color: #434B5C;\n",
              "      box-shadow: 0px 1px 3px 1px rgba(0, 0, 0, 0.15);\n",
              "      filter: drop-shadow(0px 1px 2px rgba(0, 0, 0, 0.3));\n",
              "      fill: #FFFFFF;\n",
              "    }\n",
              "  </style>\n",
              "\n",
              "      <script>\n",
              "        const buttonEl =\n",
              "          document.querySelector('#df-696d47de-67cd-4ab5-af1e-72bdf37ef684 button.colab-df-convert');\n",
              "        buttonEl.style.display =\n",
              "          google.colab.kernel.accessAllowed ? 'block' : 'none';\n",
              "\n",
              "        async function convertToInteractive(key) {\n",
              "          const element = document.querySelector('#df-696d47de-67cd-4ab5-af1e-72bdf37ef684');\n",
              "          const dataTable =\n",
              "            await google.colab.kernel.invokeFunction('convertToInteractive',\n",
              "                                                     [key], {});\n",
              "          if (!dataTable) return;\n",
              "\n",
              "          const docLinkHtml = 'Like what you see? Visit the ' +\n",
              "            '<a target=\"_blank\" href=https://colab.research.google.com/notebooks/data_table.ipynb>data table notebook</a>'\n",
              "            + ' to learn more about interactive tables.';\n",
              "          element.innerHTML = '';\n",
              "          dataTable['output_type'] = 'display_data';\n",
              "          await google.colab.output.renderOutput(dataTable, element);\n",
              "          const docLink = document.createElement('div');\n",
              "          docLink.innerHTML = docLinkHtml;\n",
              "          element.appendChild(docLink);\n",
              "        }\n",
              "      </script>\n",
              "    </div>\n",
              "  </div>\n",
              "  "
            ]
          },
          "metadata": {}
        }
      ]
    },
    {
      "cell_type": "code",
      "source": [
        "#display(1,bovespa.date)"
      ],
      "metadata": {
        "id": "L643i2TZifFE"
      },
      "execution_count": 9,
      "outputs": []
    },
    {
      "cell_type": "code",
      "execution_count": 82,
      "metadata": {
        "colab": {
          "base_uri": "https://localhost:8080/"
        },
        "id": "7FNOIo-L6ILR",
        "outputId": "edf5baf0-a09a-4b3d-d460-08d4edb3519d"
      },
      "outputs": [
        {
          "output_type": "stream",
          "name": "stdout",
          "text": [
            "date             0\n",
            "price            0\n",
            "percentChange    0\n",
            "change           0\n",
            "Variacao         0\n",
            "dtype: int64\n",
            "           price  percentChange     change\n",
            "count  37.000000      37.000000  37.000000\n",
            "mean   58.788511       0.578124   0.524476\n",
            "std    16.457504      13.446773   7.461570\n",
            "min    18.840000     -54.244861 -24.280000\n",
            "25%    50.930000      -5.609012  -2.390000\n",
            "50%    60.140000       5.103111   2.340000\n",
            "75%    68.500000       8.996401   4.420000\n",
            "max    95.720000      18.454085  11.610000\n"
          ]
        }
      ],
      "source": [
        "print(bovespa.isnull().sum())\n",
        "print(bovespa.describe())"
      ]
    },
    {
      "cell_type": "code",
      "execution_count": 73,
      "metadata": {
        "colab": {
          "base_uri": "https://localhost:8080/"
        },
        "id": "aMi3YVT97VJ4",
        "outputId": "554bc15f-c390-435b-b20f-329776ca7f3b"
      },
      "outputs": [
        {
          "output_type": "execute_result",
          "data": {
            "text/plain": [
              "Int64Index([ 0,  1,  2,  3,  4,  5,  6,  7,  8,  9, 10, 11, 12, 13, 14, 15, 16,\n",
              "            17, 18, 19, 20, 21, 22, 23, 24, 25, 26, 27, 28, 29, 30, 31, 32, 33,\n",
              "            34, 35, 36],\n",
              "           dtype='int64')"
            ]
          },
          "metadata": {},
          "execution_count": 73
        }
      ],
      "source": [
        "bovespa.index"
      ]
    },
    {
      "cell_type": "code",
      "execution_count": 83,
      "metadata": {
        "colab": {
          "base_uri": "https://localhost:8080/",
          "height": 406
        },
        "id": "pTOktSNO7hTB",
        "outputId": "84f42e4e-ba5d-47a9-e56e-708f020df986"
      },
      "outputs": [
        {
          "output_type": "display_data",
          "data": {
            "text/plain": [
              "<Figure size 1008x432 with 1 Axes>"
            ],
            "image/png": "[encoded data removed]"
          },
          "metadata": {
            "needs_background": "light"
          }
        }
      ],
      "source": [
        "fig, ax = plt.subplots(figsize=(14,6))\n",
        "\n",
        "#ax.plot(bovespa.index, bovespa.DOLAR, label='DOLAR')\n",
        "ax.plot(bovespa.index, bovespa.price, label='PREÇO')\n",
        "\n",
        "#ax.set_title('Tendência do Dólar (Regressão a Intervalo Fixo)', fontsize=14, weight='bold')\n",
        "ax.set_title('Tendência do Preço do Petróleo  (Regressão a Intervalo Fixo)', fontsize=14, weight='bold')\n",
        "ax.set_xlabel(\"date\")\n",
        "ax.set_ylabel(\"Valor (R$)\")\n",
        "\n",
        "#z = np.polyfit(bovespa.index,bovespa.DOLAR, 1)\n",
        "z = np.polyfit(bovespa.index,bovespa.price, 1)\n",
        "p = np.poly1d(z)\n",
        "ax.plot(bovespa.index,p(bovespa.index), linestyle='dashed', label='Linear(x)' ,linewidth=2, color='k')\n",
        "\n",
        "# OU\n",
        "# x = np.arange(0,len(bovespa),1)\n",
        "# z = np.polyfit(x,bovespa.DOLAR, 1)\n",
        "# p = np.poly1d(z)\n",
        "# ax.plot(bovespa.data,p(x), linestyle='dashed', label='Linear(x)' ,linewidth=2, color='k')\n",
        "\n",
        "ax.legend(fontsize=12)\n",
        "\n",
        "import matplotlib.ticker as ticker\n",
        "ax.xaxis.set_major_locator(ticker.MaxNLocator(5))\n",
        "#ax.set_xticklabels(['',bovespa.iloc[0].date.date(),'',bovespa.iloc[20].date.date(),'',bovespa.iloc[40].date.date()])\n",
        "ax.set_xticklabels(['',bovespa.iloc[0].date.date(),'',bovespa.iloc[10].date.date(),'',bovespa.iloc[20].date.date()])\n",
        "\n",
        "\n",
        "\n",
        "plt.show()"
      ]
    },
    {
      "cell_type": "code",
      "execution_count": 84,
      "metadata": {
        "id": "CWG9ZK5HJ3wV"
      },
      "outputs": [],
      "source": [
        "bovespa['dias'] = bovespa['date'] - bovespa['date'].min()\n",
        "#display(1, bovespa['date'])\n",
        "#display(2,bovespa['dias'])"
      ]
    },
    {
      "cell_type": "code",
      "execution_count": 85,
      "metadata": {
        "colab": {
          "base_uri": "https://localhost:8080/",
          "height": 406
        },
        "id": "9I_-S-ZCJB_K",
        "outputId": "7e1ecdf5-68f3-4aa2-c314-12bdb676d184"
      },
      "outputs": [
        {
          "output_type": "display_data",
          "data": {
            "text/plain": [
              "<Figure size 1008x432 with 1 Axes>"
            ],
            "image/png": "[encoded data removed]"
          },
          "metadata": {
            "needs_background": "light"
          }
        }
      ],
      "source": [
        "fig, ax = plt.subplots(figsize=(14,6))\n",
        "\n",
        "#ax.plot(bovespa.data, bovespa.DOLAR, label='DOLAR')\n",
        "ax.plot(bovespa.date, bovespa.price, label='PREÇO')\n",
        "\n",
        "#ax.set_title('Tendência do Dólar (Regressão a Intervalo Variável)', fontsize=14, weight='bold')\n",
        "ax.set_title('Tendência do Preço do Petróleo (Regressão a Intervalo Variável)', fontsize=14, weight='bold')\n",
        "ax.set_xlabel(\"date\")\n",
        "ax.set_ylabel(\"Valor (R$)\")\n",
        "\n",
        "#z = np.polyfit(bovespa.dias.dt.days,bovespa.DOLAR, 1)\n",
        "z = np.polyfit(bovespa.dias.dt.days,bovespa.price, 1)\n",
        "p = np.poly1d(z)\n",
        "#ax.plot(bovespa.data,p(bovespa.dias.dt.days), linestyle='dashed', label='Linear(x)' ,linewidth=2, color='k')\n",
        "ax.plot(bovespa.date,p(bovespa.dias.dt.days), linestyle='dashed', label='Linear(x)' ,linewidth=2, color='k')\n",
        "\n",
        "ax.legend(fontsize=12)\n",
        "\n",
        "import matplotlib.ticker as ticker\n",
        "ax.xaxis.set_major_locator(ticker.MaxNLocator(5))\n",
        "\n",
        "plt.show()"
      ]
    },
    {
      "cell_type": "code",
      "source": [
        "bovespa['week'] = bovespa['date'].dt.isocalendar().week"
      ],
      "metadata": {
        "id": "u6q44ox3sEvZ"
      },
      "execution_count": 86,
      "outputs": []
    },
    {
      "cell_type": "code",
      "source": [
        "bovespa.head()"
      ],
      "metadata": {
        "colab": {
          "base_uri": "https://localhost:8080/",
          "height": 206
        },
        "id": "HyOjgkpvsOUo",
        "outputId": "634ef7fa-0d4c-4656-cdda-f3b5a071e320"
      },
      "execution_count": 87,
      "outputs": [
        {
          "output_type": "execute_result",
          "data": {
            "text/plain": [
              "        date    price  percentChange  change Variacao     dias  week\n",
              "0 2018-02-01  61.6400      -4.773675 -3.0900    4.18%   0 days     5\n",
              "1 2018-03-01  64.9400       5.353666  3.3000   -1.99%  28 days     9\n",
              "2 2018-06-01  74.1500      10.605609  7.1100  -14.86% 120 days    22\n",
              "3 2018-08-01  69.9977       1.800029  1.2377    1.42% 181 days    31\n",
              "4 2018-10-01  65.3100     -11.262622 -8.2892   -0.39% 242 days    40"
            ],
            "text/html": [
              "\n",
              "  <div id=\"df-7986919b-9aec-4466-86a6-ffa417238218\">\n",
              "    <div class=\"colab-df-container\">\n",
              "      <div>\n",
              "<style scoped>\n",
              "    .dataframe tbody tr th:only-of-type {\n",
              "        vertical-align: middle;\n",
              "    }\n",
              "\n",
              "    .dataframe tbody tr th {\n",
              "        vertical-align: top;\n",
              "    }\n",
              "\n",
              "    .dataframe thead th {\n",
              "        text-align: right;\n",
              "    }\n",
              "</style>\n",
              "<table border=\"1\" class=\"dataframe\">\n",
              "  <thead>\n",
              "    <tr style=\"text-align: right;\">\n",
              "      <th></th>\n",
              "      <th>date</th>\n",
              "      <th>price</th>\n",
              "      <th>percentChange</th>\n",
              "      <th>change</th>\n",
              "      <th>Variacao</th>\n",
              "      <th>dias</th>\n",
              "      <th>week</th>\n",
              "    </tr>\n",
              "  </thead>\n",
              "  <tbody>\n",
              "    <tr>\n",
              "      <th>0</th>\n",
              "      <td>2018-02-01</td>\n",
              "      <td>61.6400</td>\n",
              "      <td>-4.773675</td>\n",
              "      <td>-3.0900</td>\n",
              "      <td>4.18%</td>\n",
              "      <td>0 days</td>\n",
              "      <td>5</td>\n",
              "    </tr>\n",
              "    <tr>\n",
              "      <th>1</th>\n",
              "      <td>2018-03-01</td>\n",
              "      <td>64.9400</td>\n",
              "      <td>5.353666</td>\n",
              "      <td>3.3000</td>\n",
              "      <td>-1.99%</td>\n",
              "      <td>28 days</td>\n",
              "      <td>9</td>\n",
              "    </tr>\n",
              "    <tr>\n",
              "      <th>2</th>\n",
              "      <td>2018-06-01</td>\n",
              "      <td>74.1500</td>\n",
              "      <td>10.605609</td>\n",
              "      <td>7.1100</td>\n",
              "      <td>-14.86%</td>\n",
              "      <td>120 days</td>\n",
              "      <td>22</td>\n",
              "    </tr>\n",
              "    <tr>\n",
              "      <th>3</th>\n",
              "      <td>2018-08-01</td>\n",
              "      <td>69.9977</td>\n",
              "      <td>1.800029</td>\n",
              "      <td>1.2377</td>\n",
              "      <td>1.42%</td>\n",
              "      <td>181 days</td>\n",
              "      <td>31</td>\n",
              "    </tr>\n",
              "    <tr>\n",
              "      <th>4</th>\n",
              "      <td>2018-10-01</td>\n",
              "      <td>65.3100</td>\n",
              "      <td>-11.262622</td>\n",
              "      <td>-8.2892</td>\n",
              "      <td>-0.39%</td>\n",
              "      <td>242 days</td>\n",
              "      <td>40</td>\n",
              "    </tr>\n",
              "  </tbody>\n",
              "</table>\n",
              "</div>\n",
              "      <button class=\"colab-df-convert\" onclick=\"convertToInteractive('df-7986919b-9aec-4466-86a6-ffa417238218')\"\n",
              "              title=\"Convert this dataframe to an interactive table.\"\n",
              "              style=\"display:none;\">\n",
              "        \n",
              "  <svg xmlns=\"http://www.w3.org/2000/svg\" height=\"24px\"viewBox=\"0 0 24 24\"\n",
              "       width=\"24px\">\n",
              "    <path d=\"M0 0h24v24H0V0z\" fill=\"none\"/>\n",
              "    <path d=\"M18.56 5.44l.94 2.06.94-2.06 2.06-.94-2.06-.94-.94-2.06-.94 2.06-2.06.94zm-11 1L8.5 8.5l.94-2.06 2.06-.94-2.06-.94L8.5 2.5l-.94 2.06-2.06.94zm10 10l.94 2.06.94-2.06 2.06-.94-2.06-.94-.94-2.06-.94 2.06-2.06.94z\"/><path d=\"M17.41 7.96l-1.37-1.37c-.4-.4-.92-.59-1.43-.59-.52 0-1.04.2-1.43.59L10.3 9.45l-7.72 7.72c-.78.78-.78 2.05 0 2.83L4 21.41c.39.39.9.59 1.41.59.51 0 1.02-.2 1.41-.59l7.78-7.78 2.81-2.81c.8-.78.8-2.07 0-2.86zM5.41 20L4 18.59l7.72-7.72 1.47 1.35L5.41 20z\"/>\n",
              "  </svg>\n",
              "      </button>\n",
              "      \n",
              "  <style>\n",
              "    .colab-df-container {\n",
              "      display:flex;\n",
              "      flex-wrap:wrap;\n",
              "      gap: 12px;\n",
              "    }\n",
              "\n",
              "    .colab-df-convert {\n",
              "      background-color: #E8F0FE;\n",
              "      border: none;\n",
              "      border-radius: 50%;\n",
              "      cursor: pointer;\n",
              "      display: none;\n",
              "      fill: #1967D2;\n",
              "      height: 32px;\n",
              "      padding: 0 0 0 0;\n",
              "      width: 32px;\n",
              "    }\n",
              "\n",
              "    .colab-df-convert:hover {\n",
              "      background-color: #E2EBFA;\n",
              "      box-shadow: 0px 1px 2px rgba(60, 64, 67, 0.3), 0px 1px 3px 1px rgba(60, 64, 67, 0.15);\n",
              "      fill: #174EA6;\n",
              "    }\n",
              "\n",
              "    [theme=dark] .colab-df-convert {\n",
              "      background-color: #3B4455;\n",
              "      fill: #D2E3FC;\n",
              "    }\n",
              "\n",
              "    [theme=dark] .colab-df-convert:hover {\n",
              "      background-color: #434B5C;\n",
              "      box-shadow: 0px 1px 3px 1px rgba(0, 0, 0, 0.15);\n",
              "      filter: drop-shadow(0px 1px 2px rgba(0, 0, 0, 0.3));\n",
              "      fill: #FFFFFF;\n",
              "    }\n",
              "  </style>\n",
              "\n",
              "      <script>\n",
              "        const buttonEl =\n",
              "          document.querySelector('#df-7986919b-9aec-4466-86a6-ffa417238218 button.colab-df-convert');\n",
              "        buttonEl.style.display =\n",
              "          google.colab.kernel.accessAllowed ? 'block' : 'none';\n",
              "\n",
              "        async function convertToInteractive(key) {\n",
              "          const element = document.querySelector('#df-7986919b-9aec-4466-86a6-ffa417238218');\n",
              "          const dataTable =\n",
              "            await google.colab.kernel.invokeFunction('convertToInteractive',\n",
              "                                                     [key], {});\n",
              "          if (!dataTable) return;\n",
              "\n",
              "          const docLinkHtml = 'Like what you see? Visit the ' +\n",
              "            '<a target=\"_blank\" href=https://colab.research.google.com/notebooks/data_table.ipynb>data table notebook</a>'\n",
              "            + ' to learn more about interactive tables.';\n",
              "          element.innerHTML = '';\n",
              "          dataTable['output_type'] = 'display_data';\n",
              "          await google.colab.output.renderOutput(dataTable, element);\n",
              "          const docLink = document.createElement('div');\n",
              "          docLink.innerHTML = docLinkHtml;\n",
              "          element.appendChild(docLink);\n",
              "        }\n",
              "      </script>\n",
              "    </div>\n",
              "  </div>\n",
              "  "
            ]
          },
          "metadata": {},
          "execution_count": 87
        }
      ]
    },
    {
      "cell_type": "code",
      "source": [
        "fig, ax = plt.subplots(figsize=(14,6))\n",
        "\n",
        "yerr = []\n",
        "ymean = []\n",
        "for w in bovespa.week.unique():\n",
        "  yerr.append(bovespa[bovespa.week == w]['price'].std())\n",
        "  ymean.append(bovespa[bovespa.week == w]['price'].mean())\n",
        "yerr = np.array(yerr)  \n",
        "ymean = np.array(ymean) \n",
        "\n",
        "plt.errorbar(bovespa.week.unique(), ymean, yerr=yerr, label='Tendência', marker='o', color='r', linewidth=1.2)\n",
        "plt.scatter(bovespa.week, bovespa.price, label='Valores Mês', marker='o', color='orange', alpha=0.7, s=64)\n",
        "\n",
        "plt.title(\"Tendência do Índice Preço do  Petróleo\", fontsize=14, weight='bold')\n",
        "plt.xlabel(\"Mês\")\n",
        "plt.ylabel(\"Pontos\")\n",
        "plt.legend()\n",
        "\n",
        "plt.show()"
      ],
      "metadata": {
        "colab": {
          "base_uri": "https://localhost:8080/",
          "height": 407
        },
        "id": "hvZthkpvqL3M",
        "outputId": "2b76d94c-135b-40a3-bfa6-723eec9e5709"
      },
      "execution_count": 88,
      "outputs": [
        {
          "output_type": "display_data",
          "data": {
            "text/plain": [
              "<Figure size 1008x432 with 1 Axes>"
            ],
            "image/png": "[encoded data removed]"
          },
          "metadata": {
            "needs_background": "light"
          }
        }
      ]
    },
    {
      "cell_type": "code",
      "source": [
        "fig, ax = plt.subplots(figsize=(14,6))\n",
        "\n",
        "plt.plot(np.array(bovespa.week.unique()), ymean, 'r-', label='Tendência', marker='o', linewidth=1.2, markersize=4)\n",
        "plt.scatter(bovespa.week, bovespa.price, label='Valores Mês', marker='o',  alpha=0.5, s=64, color='orange')\n",
        "for week in bovespa.week.unique():\n",
        "  plt.boxplot(bovespa[bovespa.week == week].price, positions=[week], widths=0.15, flierprops=dict(color='r',markeredgecolor='r'),medianprops=dict(color='r'))\n",
        "\n",
        "plt.title(\"Tendência do Índice Preço do Petróleo\", fontsize=14, weight='bold')\n",
        "plt.xlabel(\"Mês\")\n",
        "plt.ylabel(\"Pontos\")\n",
        "plt.legend()\n",
        "\n",
        "plt.show()"
      ],
      "metadata": {
        "colab": {
          "base_uri": "https://localhost:8080/",
          "height": 407
        },
        "id": "fnXjuEERs0tD",
        "outputId": "90ff632f-2afa-43f3-e874-47f45446642c"
      },
      "execution_count": 89,
      "outputs": [
        {
          "output_type": "display_data",
          "data": {
            "text/plain": [
              "<Figure size 1008x432 with 1 Axes>"
            ],
            "image/png": "[encoded data removed]"
          },
          "metadata": {
            "needs_background": "light"
          }
        }
      ]
    },
    {
      "cell_type": "code",
      "source": [
        "display('head:',bovespa.head())"
      ],
      "metadata": {
        "colab": {
          "base_uri": "https://localhost:8080/",
          "height": 225
        },
        "id": "XIzrJxvZI4mj",
        "outputId": "042bde64-042f-4aaf-efe0-b7f246ef8b10"
      },
      "execution_count": 90,
      "outputs": [
        {
          "output_type": "display_data",
          "data": {
            "text/plain": [
              "'head:'"
            ],
            "application/vnd.google.colaboratory.intrinsic+json": {
              "type": "string"
            }
          },
          "metadata": {}
        },
        {
          "output_type": "display_data",
          "data": {
            "text/plain": [
              "        date    price  percentChange  change Variacao     dias  week\n",
              "0 2018-02-01  61.6400      -4.773675 -3.0900    4.18%   0 days     5\n",
              "1 2018-03-01  64.9400       5.353666  3.3000   -1.99%  28 days     9\n",
              "2 2018-06-01  74.1500      10.605609  7.1100  -14.86% 120 days    22\n",
              "3 2018-08-01  69.9977       1.800029  1.2377    1.42% 181 days    31\n",
              "4 2018-10-01  65.3100     -11.262622 -8.2892   -0.39% 242 days    40"
            ],
            "text/html": [
              "\n",
              "  <div id=\"df-494303a6-0855-4bff-8424-8c96dde6bd30\">\n",
              "    <div class=\"colab-df-container\">\n",
              "      <div>\n",
              "<style scoped>\n",
              "    .dataframe tbody tr th:only-of-type {\n",
              "        vertical-align: middle;\n",
              "    }\n",
              "\n",
              "    .dataframe tbody tr th {\n",
              "        vertical-align: top;\n",
              "    }\n",
              "\n",
              "    .dataframe thead th {\n",
              "        text-align: right;\n",
              "    }\n",
              "</style>\n",
              "<table border=\"1\" class=\"dataframe\">\n",
              "  <thead>\n",
              "    <tr style=\"text-align: right;\">\n",
              "      <th></th>\n",
              "      <th>date</th>\n",
              "      <th>price</th>\n",
              "      <th>percentChange</th>\n",
              "      <th>change</th>\n",
              "      <th>Variacao</th>\n",
              "      <th>dias</th>\n",
              "      <th>week</th>\n",
              "    </tr>\n",
              "  </thead>\n",
              "  <tbody>\n",
              "    <tr>\n",
              "      <th>0</th>\n",
              "      <td>2018-02-01</td>\n",
              "      <td>61.6400</td>\n",
              "      <td>-4.773675</td>\n",
              "      <td>-3.0900</td>\n",
              "      <td>4.18%</td>\n",
              "      <td>0 days</td>\n",
              "      <td>5</td>\n",
              "    </tr>\n",
              "    <tr>\n",
              "      <th>1</th>\n",
              "      <td>2018-03-01</td>\n",
              "      <td>64.9400</td>\n",
              "      <td>5.353666</td>\n",
              "      <td>3.3000</td>\n",
              "      <td>-1.99%</td>\n",
              "      <td>28 days</td>\n",
              "      <td>9</td>\n",
              "    </tr>\n",
              "    <tr>\n",
              "      <th>2</th>\n",
              "      <td>2018-06-01</td>\n",
              "      <td>74.1500</td>\n",
              "      <td>10.605609</td>\n",
              "      <td>7.1100</td>\n",
              "      <td>-14.86%</td>\n",
              "      <td>120 days</td>\n",
              "      <td>22</td>\n",
              "    </tr>\n",
              "    <tr>\n",
              "      <th>3</th>\n",
              "      <td>2018-08-01</td>\n",
              "      <td>69.9977</td>\n",
              "      <td>1.800029</td>\n",
              "      <td>1.2377</td>\n",
              "      <td>1.42%</td>\n",
              "      <td>181 days</td>\n",
              "      <td>31</td>\n",
              "    </tr>\n",
              "    <tr>\n",
              "      <th>4</th>\n",
              "      <td>2018-10-01</td>\n",
              "      <td>65.3100</td>\n",
              "      <td>-11.262622</td>\n",
              "      <td>-8.2892</td>\n",
              "      <td>-0.39%</td>\n",
              "      <td>242 days</td>\n",
              "      <td>40</td>\n",
              "    </tr>\n",
              "  </tbody>\n",
              "</table>\n",
              "</div>\n",
              "      <button class=\"colab-df-convert\" onclick=\"convertToInteractive('df-494303a6-0855-4bff-8424-8c96dde6bd30')\"\n",
              "              title=\"Convert this dataframe to an interactive table.\"\n",
              "              style=\"display:none;\">\n",
              "        \n",
              "  <svg xmlns=\"http://www.w3.org/2000/svg\" height=\"24px\"viewBox=\"0 0 24 24\"\n",
              "       width=\"24px\">\n",
              "    <path d=\"M0 0h24v24H0V0z\" fill=\"none\"/>\n",
              "    <path d=\"M18.56 5.44l.94 2.06.94-2.06 2.06-.94-2.06-.94-.94-2.06-.94 2.06-2.06.94zm-11 1L8.5 8.5l.94-2.06 2.06-.94-2.06-.94L8.5 2.5l-.94 2.06-2.06.94zm10 10l.94 2.06.94-2.06 2.06-.94-2.06-.94-.94-2.06-.94 2.06-2.06.94z\"/><path d=\"M17.41 7.96l-1.37-1.37c-.4-.4-.92-.59-1.43-.59-.52 0-1.04.2-1.43.59L10.3 9.45l-7.72 7.72c-.78.78-.78 2.05 0 2.83L4 21.41c.39.39.9.59 1.41.59.51 0 1.02-.2 1.41-.59l7.78-7.78 2.81-2.81c.8-.78.8-2.07 0-2.86zM5.41 20L4 18.59l7.72-7.72 1.47 1.35L5.41 20z\"/>\n",
              "  </svg>\n",
              "      </button>\n",
              "      \n",
              "  <style>\n",
              "    .colab-df-container {\n",
              "      display:flex;\n",
              "      flex-wrap:wrap;\n",
              "      gap: 12px;\n",
              "    }\n",
              "\n",
              "    .colab-df-convert {\n",
              "      background-color: #E8F0FE;\n",
              "      border: none;\n",
              "      border-radius: 50%;\n",
              "      cursor: pointer;\n",
              "      display: none;\n",
              "      fill: #1967D2;\n",
              "      height: 32px;\n",
              "      padding: 0 0 0 0;\n",
              "      width: 32px;\n",
              "    }\n",
              "\n",
              "    .colab-df-convert:hover {\n",
              "      background-color: #E2EBFA;\n",
              "      box-shadow: 0px 1px 2px rgba(60, 64, 67, 0.3), 0px 1px 3px 1px rgba(60, 64, 67, 0.15);\n",
              "      fill: #174EA6;\n",
              "    }\n",
              "\n",
              "    [theme=dark] .colab-df-convert {\n",
              "      background-color: #3B4455;\n",
              "      fill: #D2E3FC;\n",
              "    }\n",
              "\n",
              "    [theme=dark] .colab-df-convert:hover {\n",
              "      background-color: #434B5C;\n",
              "      box-shadow: 0px 1px 3px 1px rgba(0, 0, 0, 0.15);\n",
              "      filter: drop-shadow(0px 1px 2px rgba(0, 0, 0, 0.3));\n",
              "      fill: #FFFFFF;\n",
              "    }\n",
              "  </style>\n",
              "\n",
              "      <script>\n",
              "        const buttonEl =\n",
              "          document.querySelector('#df-494303a6-0855-4bff-8424-8c96dde6bd30 button.colab-df-convert');\n",
              "        buttonEl.style.display =\n",
              "          google.colab.kernel.accessAllowed ? 'block' : 'none';\n",
              "\n",
              "        async function convertToInteractive(key) {\n",
              "          const element = document.querySelector('#df-494303a6-0855-4bff-8424-8c96dde6bd30');\n",
              "          const dataTable =\n",
              "            await google.colab.kernel.invokeFunction('convertToInteractive',\n",
              "                                                     [key], {});\n",
              "          if (!dataTable) return;\n",
              "\n",
              "          const docLinkHtml = 'Like what you see? Visit the ' +\n",
              "            '<a target=\"_blank\" href=https://colab.research.google.com/notebooks/data_table.ipynb>data table notebook</a>'\n",
              "            + ' to learn more about interactive tables.';\n",
              "          element.innerHTML = '';\n",
              "          dataTable['output_type'] = 'display_data';\n",
              "          await google.colab.output.renderOutput(dataTable, element);\n",
              "          const docLink = document.createElement('div');\n",
              "          docLink.innerHTML = docLinkHtml;\n",
              "          element.appendChild(docLink);\n",
              "        }\n",
              "      </script>\n",
              "    </div>\n",
              "  </div>\n",
              "  "
            ]
          },
          "metadata": {}
        }
      ]
    },
    {
      "cell_type": "code",
      "source": [
        "fig, ax = plt.subplots(figsize=(14,6))\n",
        "\n",
        "ax.plot(bovespa.date, bovespa.price, label='Petróleo', color='k', alpha=0.3)\n",
        "\n",
        "ax2 = ax.twinx()  # instantiate a second axes that shares the same x-axis\n",
        "\n",
        "ax2.plot(bovespa.date, bovespa.Variacao, label='Ação', color='r', alpha=0.3)\n",
        "\n",
        "ax.set_title('Tendência do Petróleo x Ação da Petrobrás', fontsize=14, weight='bold')\n",
        "ax.set_xlabel(\"date\")\n",
        "ax.set_ylabel(\"Valor (R$)\")\n",
        "ax2.set_ylabel(\"Pontos\")\n",
        "\n",
        "z = np.polyfit(bovespa.dias.dt.days,bovespa.price, 1)\n",
        "p = np.poly1d(z)\n",
        "ax.plot(bovespa.date,p(bovespa.dias.dt.days), linestyle='dashed', label='Linear Petróleo' ,linewidth=2, color='k')\n",
        "\n",
        "z = np.polyfit(bovespa.dias.dt.days,bovespa.pric, 1)\n",
        "p = np.poly1d(z)\n",
        "ax2.plot(bovespa.date,p(bovespa.dias.dt.days), linestyle='dashed', label='Linear IBOV' ,linewidth=2, color='r')\n",
        "\n",
        "ax.legend(loc='lower right',fontsize=12)\n",
        "ax2.legend(fontsize=12)\n",
        "\n",
        "import matplotlib.ticker as ticker\n",
        "ax.xaxis.set_major_locator(ticker.MaxNLocator(8))\n",
        "\n",
        "plt.show()"
      ],
      "metadata": {
        "colab": {
          "base_uri": "https://localhost:8080/",
          "height": 406
        },
        "id": "kZ0Ldh12Gi8r",
        "outputId": "e929b74a-47b3-4eb5-9b03-f4374396df30"
      },
      "execution_count": 94,
      "outputs": [
        {
          "output_type": "display_data",
          "data": {
            "text/plain": [
              "<Figure size 1008x432 with 2 Axes>"
            ],
            "image/png": "[encoded data removed]"
          },
          "metadata": {
            "needs_background": "light"
          }
        }
      ]
    }
  ],
  "metadata": {
    "colab": {
      "name": "trilha 4 - analise.ipynb",
      "provenance": [],
      "collapsed_sections": [],
      "authorship_tag": "ABX9TyNpQTkGcJMU+qNGNoDDUka1",
      "include_colab_link": true
    },
    "kernelspec": {
      "display_name": "Python 3",
      "name": "python3"
    },
    "language_info": {
      "name": "python"
    }
  },
  "nbformat": 4,
  "nbformat_minor": 0
}