{
  "cells": [
    {
      "cell_type": "markdown",
      "metadata": {
        "id": "view-in-github",
        "colab_type": "text"
      },
      "source": [
        "<a href=\"https://colab.research.google.com/github/sergiolcrezende/Mackenzie/blob/main/trilha_4_analise.ipynb\" target=\"_parent\"><img src=\"https://colab.research.google.com/assets/colab-badge.svg\" alt=\"Open In Colab\"/></a>"
      ]
    },
    {
      "cell_type": "markdown",
      "source": [
        "**Trilha 4 - Analise de base de dados - Sergio Luiz Custódio Rezende**\n",
        "\n",
        "O estudo foi feito levando em conta o momento atual com relação a crise do petróleo devido a guerra entre a Rússia e a Ucránia.\n",
        "Foi levantado as informações com relação ao preço do petróleo e a ações da Petrobrás.\n",
        "O estudo foi feito com informações no período de 2018 a até 02/2022.\n",
        "\n",
        "Este levantamento visa responder as perguntas:\n",
        "\n",
        "1) Qual é a tendência do preço do petróleo nos últimos anos?\n",
        ">\n",
        "2) Qual é a tendência do preço do petróleo x ações da Petrobrás?\n",
        ">\n",
        "3) Qual é a maior variação de volume financeiro das ações da petrobrás?\n",
        ">\n",
        "4) Qual é o valor máximo no pregão das ações da petrobrás?\n",
        "\n"
      ],
      "metadata": {
        "id": "WZiBEweJO9pV"
      }
    },
    {
      "cell_type": "markdown",
      "source": [
        "###Abertura das bibliotecas utilizadas"
      ],
      "metadata": {
        "id": "yVZ1O2XmRSaW"
      }
    },
    {
      "cell_type": "code",
      "execution_count": 198,
      "metadata": {
        "id": "AAgLmNinwTv-"
      },
      "outputs": [],
      "source": [
        "import numpy as np\n",
        "import pandas as pd\n",
        "import matplotlib.pyplot as plt\n",
        "%matplotlib inline\n",
        "import seaborn as sns"
      ]
    },
    {
      "cell_type": "markdown",
      "source": [
        "### Abertura do arquivo base do estudo com relação ao petróleo e avaliação dos dados após a importação "
      ],
      "metadata": {
        "id": "lNc2GMeYQSMA"
      }
    },
    {
      "cell_type": "code",
      "execution_count": 215,
      "metadata": {
        "colab": {
          "base_uri": "https://localhost:8080/",
          "height": 1000
        },
        "id": "HZ-UgJKmwnYL",
        "outputId": "2809916c-6bc5-4b80-badf-9aa9387aeda2"
      },
      "outputs": [
        {
          "output_type": "display_data",
          "data": {
            "text/plain": [
              "'shape: '"
            ],
            "application/vnd.google.colaboratory.intrinsic+json": {
              "type": "string"
            }
          },
          "metadata": {}
        },
        {
          "output_type": "display_data",
          "data": {
            "text/plain": [
              "(51, 4)"
            ]
          },
          "metadata": {}
        },
        {
          "output_type": "display_data",
          "data": {
            "text/plain": [
              "'head:'"
            ],
            "application/vnd.google.colaboratory.intrinsic+json": {
              "type": "string"
            }
          },
          "metadata": {}
        },
        {
          "output_type": "display_data",
          "data": {
            "text/plain": [
              "         date  price  percentChange  change\n",
              "0  2018-01-01  64.73       7.133400    4.31\n",
              "1  2018-02-01  61.64      -4.773675   -3.09\n",
              "2  2018-03-01  64.94       5.353666    3.30\n",
              "3  2018-04-01  68.57       5.589775    3.63\n",
              "4  2018-05-01  67.04      -2.231296   -1.53"
            ],
            "text/html": [
              "\n",
              "  <div id=\"df-96784e7d-f951-48d8-b026-2f28a969bbe1\">\n",
              "    <div class=\"colab-df-container\">\n",
              "      <div>\n",
              "<style scoped>\n",
              "    .dataframe tbody tr th:only-of-type {\n",
              "        vertical-align: middle;\n",
              "    }\n",
              "\n",
              "    .dataframe tbody tr th {\n",
              "        vertical-align: top;\n",
              "    }\n",
              "\n",
              "    .dataframe thead th {\n",
              "        text-align: right;\n",
              "    }\n",
              "</style>\n",
              "<table border=\"1\" class=\"dataframe\">\n",
              "  <thead>\n",
              "    <tr style=\"text-align: right;\">\n",
              "      <th></th>\n",
              "      <th>date</th>\n",
              "      <th>price</th>\n",
              "      <th>percentChange</th>\n",
              "      <th>change</th>\n",
              "    </tr>\n",
              "  </thead>\n",
              "  <tbody>\n",
              "    <tr>\n",
              "      <th>0</th>\n",
              "      <td>2018-01-01</td>\n",
              "      <td>64.73</td>\n",
              "      <td>7.133400</td>\n",
              "      <td>4.31</td>\n",
              "    </tr>\n",
              "    <tr>\n",
              "      <th>1</th>\n",
              "      <td>2018-02-01</td>\n",
              "      <td>61.64</td>\n",
              "      <td>-4.773675</td>\n",
              "      <td>-3.09</td>\n",
              "    </tr>\n",
              "    <tr>\n",
              "      <th>2</th>\n",
              "      <td>2018-03-01</td>\n",
              "      <td>64.94</td>\n",
              "      <td>5.353666</td>\n",
              "      <td>3.30</td>\n",
              "    </tr>\n",
              "    <tr>\n",
              "      <th>3</th>\n",
              "      <td>2018-04-01</td>\n",
              "      <td>68.57</td>\n",
              "      <td>5.589775</td>\n",
              "      <td>3.63</td>\n",
              "    </tr>\n",
              "    <tr>\n",
              "      <th>4</th>\n",
              "      <td>2018-05-01</td>\n",
              "      <td>67.04</td>\n",
              "      <td>-2.231296</td>\n",
              "      <td>-1.53</td>\n",
              "    </tr>\n",
              "  </tbody>\n",
              "</table>\n",
              "</div>\n",
              "      <button class=\"colab-df-convert\" onclick=\"convertToInteractive('df-96784e7d-f951-48d8-b026-2f28a969bbe1')\"\n",
              "              title=\"Convert this dataframe to an interactive table.\"\n",
              "              style=\"display:none;\">\n",
              "        \n",
              "  <svg xmlns=\"http://www.w3.org/2000/svg\" height=\"24px\"viewBox=\"0 0 24 24\"\n",
              "       width=\"24px\">\n",
              "    <path d=\"M0 0h24v24H0V0z\" fill=\"none\"/>\n",
              "    <path d=\"M18.56 5.44l.94 2.06.94-2.06 2.06-.94-2.06-.94-.94-2.06-.94 2.06-2.06.94zm-11 1L8.5 8.5l.94-2.06 2.06-.94-2.06-.94L8.5 2.5l-.94 2.06-2.06.94zm10 10l.94 2.06.94-2.06 2.06-.94-2.06-.94-.94-2.06-.94 2.06-2.06.94z\"/><path d=\"M17.41 7.96l-1.37-1.37c-.4-.4-.92-.59-1.43-.59-.52 0-1.04.2-1.43.59L10.3 9.45l-7.72 7.72c-.78.78-.78 2.05 0 2.83L4 21.41c.39.39.9.59 1.41.59.51 0 1.02-.2 1.41-.59l7.78-7.78 2.81-2.81c.8-.78.8-2.07 0-2.86zM5.41 20L4 18.59l7.72-7.72 1.47 1.35L5.41 20z\"/>\n",
              "  </svg>\n",
              "      </button>\n",
              "      \n",
              "  <style>\n",
              "    .colab-df-container {\n",
              "      display:flex;\n",
              "      flex-wrap:wrap;\n",
              "      gap: 12px;\n",
              "    }\n",
              "\n",
              "    .colab-df-convert {\n",
              "      background-color: #E8F0FE;\n",
              "      border: none;\n",
              "      border-radius: 50%;\n",
              "      cursor: pointer;\n",
              "      display: none;\n",
              "      fill: #1967D2;\n",
              "      height: 32px;\n",
              "      padding: 0 0 0 0;\n",
              "      width: 32px;\n",
              "    }\n",
              "\n",
              "    .colab-df-convert:hover {\n",
              "      background-color: #E2EBFA;\n",
              "      box-shadow: 0px 1px 2px rgba(60, 64, 67, 0.3), 0px 1px 3px 1px rgba(60, 64, 67, 0.15);\n",
              "      fill: #174EA6;\n",
              "    }\n",
              "\n",
              "    [theme=dark] .colab-df-convert {\n",
              "      background-color: #3B4455;\n",
              "      fill: #D2E3FC;\n",
              "    }\n",
              "\n",
              "    [theme=dark] .colab-df-convert:hover {\n",
              "      background-color: #434B5C;\n",
              "      box-shadow: 0px 1px 3px 1px rgba(0, 0, 0, 0.15);\n",
              "      filter: drop-shadow(0px 1px 2px rgba(0, 0, 0, 0.3));\n",
              "      fill: #FFFFFF;\n",
              "    }\n",
              "  </style>\n",
              "\n",
              "      <script>\n",
              "        const buttonEl =\n",
              "          document.querySelector('#df-96784e7d-f951-48d8-b026-2f28a969bbe1 button.colab-df-convert');\n",
              "        buttonEl.style.display =\n",
              "          google.colab.kernel.accessAllowed ? 'block' : 'none';\n",
              "\n",
              "        async function convertToInteractive(key) {\n",
              "          const element = document.querySelector('#df-96784e7d-f951-48d8-b026-2f28a969bbe1');\n",
              "          const dataTable =\n",
              "            await google.colab.kernel.invokeFunction('convertToInteractive',\n",
              "                                                     [key], {});\n",
              "          if (!dataTable) return;\n",
              "\n",
              "          const docLinkHtml = 'Like what you see? Visit the ' +\n",
              "            '<a target=\"_blank\" href=https://colab.research.google.com/notebooks/data_table.ipynb>data table notebook</a>'\n",
              "            + ' to learn more about interactive tables.';\n",
              "          element.innerHTML = '';\n",
              "          dataTable['output_type'] = 'display_data';\n",
              "          await google.colab.output.renderOutput(dataTable, element);\n",
              "          const docLink = document.createElement('div');\n",
              "          docLink.innerHTML = docLinkHtml;\n",
              "          element.appendChild(docLink);\n",
              "        }\n",
              "      </script>\n",
              "    </div>\n",
              "  </div>\n",
              "  "
            ]
          },
          "metadata": {}
        },
        {
          "output_type": "display_data",
          "data": {
            "text/plain": [
              "'tail:'"
            ],
            "application/vnd.google.colaboratory.intrinsic+json": {
              "type": "string"
            }
          },
          "metadata": {}
        },
        {
          "output_type": "display_data",
          "data": {
            "text/plain": [
              "          date   price  percentChange  change\n",
              "46  2021-11-01   65.85     -19.479090  -15.93\n",
              "47  2021-12-01   74.88      13.712984    9.03\n",
              "48  2022-01-03   86.49      15.504808   11.61\n",
              "49  2022-02-01   95.72      10.671754    9.23\n",
              "50  2022-03-01  109.33      14.218554   13.61"
            ],
            "text/html": [
              "\n",
              "  <div id=\"df-cfdd5ec1-8598-4c56-bfb8-29d657f7568e\">\n",
              "    <div class=\"colab-df-container\">\n",
              "      <div>\n",
              "<style scoped>\n",
              "    .dataframe tbody tr th:only-of-type {\n",
              "        vertical-align: middle;\n",
              "    }\n",
              "\n",
              "    .dataframe tbody tr th {\n",
              "        vertical-align: top;\n",
              "    }\n",
              "\n",
              "    .dataframe thead th {\n",
              "        text-align: right;\n",
              "    }\n",
              "</style>\n",
              "<table border=\"1\" class=\"dataframe\">\n",
              "  <thead>\n",
              "    <tr style=\"text-align: right;\">\n",
              "      <th></th>\n",
              "      <th>date</th>\n",
              "      <th>price</th>\n",
              "      <th>percentChange</th>\n",
              "      <th>change</th>\n",
              "    </tr>\n",
              "  </thead>\n",
              "  <tbody>\n",
              "    <tr>\n",
              "      <th>46</th>\n",
              "      <td>2021-11-01</td>\n",
              "      <td>65.85</td>\n",
              "      <td>-19.479090</td>\n",
              "      <td>-15.93</td>\n",
              "    </tr>\n",
              "    <tr>\n",
              "      <th>47</th>\n",
              "      <td>2021-12-01</td>\n",
              "      <td>74.88</td>\n",
              "      <td>13.712984</td>\n",
              "      <td>9.03</td>\n",
              "    </tr>\n",
              "    <tr>\n",
              "      <th>48</th>\n",
              "      <td>2022-01-03</td>\n",
              "      <td>86.49</td>\n",
              "      <td>15.504808</td>\n",
              "      <td>11.61</td>\n",
              "    </tr>\n",
              "    <tr>\n",
              "      <th>49</th>\n",
              "      <td>2022-02-01</td>\n",
              "      <td>95.72</td>\n",
              "      <td>10.671754</td>\n",
              "      <td>9.23</td>\n",
              "    </tr>\n",
              "    <tr>\n",
              "      <th>50</th>\n",
              "      <td>2022-03-01</td>\n",
              "      <td>109.33</td>\n",
              "      <td>14.218554</td>\n",
              "      <td>13.61</td>\n",
              "    </tr>\n",
              "  </tbody>\n",
              "</table>\n",
              "</div>\n",
              "      <button class=\"colab-df-convert\" onclick=\"convertToInteractive('df-cfdd5ec1-8598-4c56-bfb8-29d657f7568e')\"\n",
              "              title=\"Convert this dataframe to an interactive table.\"\n",
              "              style=\"display:none;\">\n",
              "        \n",
              "  <svg xmlns=\"http://www.w3.org/2000/svg\" height=\"24px\"viewBox=\"0 0 24 24\"\n",
              "       width=\"24px\">\n",
              "    <path d=\"M0 0h24v24H0V0z\" fill=\"none\"/>\n",
              "    <path d=\"M18.56 5.44l.94 2.06.94-2.06 2.06-.94-2.06-.94-.94-2.06-.94 2.06-2.06.94zm-11 1L8.5 8.5l.94-2.06 2.06-.94-2.06-.94L8.5 2.5l-.94 2.06-2.06.94zm10 10l.94 2.06.94-2.06 2.06-.94-2.06-.94-.94-2.06-.94 2.06-2.06.94z\"/><path d=\"M17.41 7.96l-1.37-1.37c-.4-.4-.92-.59-1.43-.59-.52 0-1.04.2-1.43.59L10.3 9.45l-7.72 7.72c-.78.78-.78 2.05 0 2.83L4 21.41c.39.39.9.59 1.41.59.51 0 1.02-.2 1.41-.59l7.78-7.78 2.81-2.81c.8-.78.8-2.07 0-2.86zM5.41 20L4 18.59l7.72-7.72 1.47 1.35L5.41 20z\"/>\n",
              "  </svg>\n",
              "      </button>\n",
              "      \n",
              "  <style>\n",
              "    .colab-df-container {\n",
              "      display:flex;\n",
              "      flex-wrap:wrap;\n",
              "      gap: 12px;\n",
              "    }\n",
              "\n",
              "    .colab-df-convert {\n",
              "      background-color: #E8F0FE;\n",
              "      border: none;\n",
              "      border-radius: 50%;\n",
              "      cursor: pointer;\n",
              "      display: none;\n",
              "      fill: #1967D2;\n",
              "      height: 32px;\n",
              "      padding: 0 0 0 0;\n",
              "      width: 32px;\n",
              "    }\n",
              "\n",
              "    .colab-df-convert:hover {\n",
              "      background-color: #E2EBFA;\n",
              "      box-shadow: 0px 1px 2px rgba(60, 64, 67, 0.3), 0px 1px 3px 1px rgba(60, 64, 67, 0.15);\n",
              "      fill: #174EA6;\n",
              "    }\n",
              "\n",
              "    [theme=dark] .colab-df-convert {\n",
              "      background-color: #3B4455;\n",
              "      fill: #D2E3FC;\n",
              "    }\n",
              "\n",
              "    [theme=dark] .colab-df-convert:hover {\n",
              "      background-color: #434B5C;\n",
              "      box-shadow: 0px 1px 3px 1px rgba(0, 0, 0, 0.15);\n",
              "      filter: drop-shadow(0px 1px 2px rgba(0, 0, 0, 0.3));\n",
              "      fill: #FFFFFF;\n",
              "    }\n",
              "  </style>\n",
              "\n",
              "      <script>\n",
              "        const buttonEl =\n",
              "          document.querySelector('#df-cfdd5ec1-8598-4c56-bfb8-29d657f7568e button.colab-df-convert');\n",
              "        buttonEl.style.display =\n",
              "          google.colab.kernel.accessAllowed ? 'block' : 'none';\n",
              "\n",
              "        async function convertToInteractive(key) {\n",
              "          const element = document.querySelector('#df-cfdd5ec1-8598-4c56-bfb8-29d657f7568e');\n",
              "          const dataTable =\n",
              "            await google.colab.kernel.invokeFunction('convertToInteractive',\n",
              "                                                     [key], {});\n",
              "          if (!dataTable) return;\n",
              "\n",
              "          const docLinkHtml = 'Like what you see? Visit the ' +\n",
              "            '<a target=\"_blank\" href=https://colab.research.google.com/notebooks/data_table.ipynb>data table notebook</a>'\n",
              "            + ' to learn more about interactive tables.';\n",
              "          element.innerHTML = '';\n",
              "          dataTable['output_type'] = 'display_data';\n",
              "          await google.colab.output.renderOutput(dataTable, element);\n",
              "          const docLink = document.createElement('div');\n",
              "          docLink.innerHTML = docLinkHtml;\n",
              "          element.appendChild(docLink);\n",
              "        }\n",
              "      </script>\n",
              "    </div>\n",
              "  </div>\n",
              "  "
            ]
          },
          "metadata": {}
        },
        {
          "output_type": "display_data",
          "data": {
            "text/plain": [
              "'quantidade de preço:'"
            ],
            "application/vnd.google.colaboratory.intrinsic+json": {
              "type": "string"
            }
          },
          "metadata": {}
        },
        {
          "output_type": "display_data",
          "data": {
            "text/plain": [
              "64.7300     1\n",
              "59.1600     1\n",
              "35.4900     1\n",
              "39.2700     1\n",
              "40.2700     1\n",
              "42.6100     1\n",
              "40.2200     1\n",
              "35.7900     1\n",
              "45.3400     1\n",
              "48.5200     1\n",
              "52.2000     1\n",
              "61.5000     1\n",
              "63.5800     1\n",
              "20.4800     1\n",
              "66.9300     1\n",
              "73.4700     1\n",
              "73.9500     1\n",
              "68.5000     1\n",
              "75.0300     1\n",
              "81.7800     1\n",
              "65.8500     1\n",
              "74.8800     1\n",
              "86.4900     1\n",
              "95.7200     1\n",
              "18.8400     1\n",
              "44.7600     1\n",
              "61.6400     1\n",
              "53.7900     1\n",
              "64.9400     1\n",
              "68.5700     1\n",
              "67.0400     1\n",
              "74.1500     1\n",
              "68.7600     1\n",
              "69.9977     1\n",
              "73.5992     1\n",
              "65.3100     1\n",
              "50.9300     1\n",
              "45.4100     1\n",
              "57.2200     1\n",
              "51.5600     1\n",
              "60.1400     1\n",
              "63.9100     1\n",
              "53.5000     1\n",
              "59.4601     1\n",
              "58.5800     1\n",
              "55.1000     1\n",
              "54.0700     1\n",
              "54.1800     1\n",
              "55.4872     1\n",
              "60.7556     1\n",
              "109.3300    1\n",
              "Name: price, dtype: int64"
            ]
          },
          "metadata": {}
        },
        {
          "output_type": "display_data",
          "data": {
            "text/plain": [
              "'datas duplicadas:'"
            ],
            "application/vnd.google.colaboratory.intrinsic+json": {
              "type": "string"
            }
          },
          "metadata": {}
        },
        {
          "output_type": "display_data",
          "data": {
            "text/plain": [
              "0"
            ]
          },
          "metadata": {}
        },
        {
          "output_type": "display_data",
          "data": {
            "text/plain": [
              "'data minima e máxima:'"
            ],
            "application/vnd.google.colaboratory.intrinsic+json": {
              "type": "string"
            }
          },
          "metadata": {}
        },
        {
          "output_type": "display_data",
          "data": {
            "text/plain": [
              "'2018-01-01'"
            ],
            "application/vnd.google.colaboratory.intrinsic+json": {
              "type": "string"
            }
          },
          "metadata": {}
        },
        {
          "output_type": "display_data",
          "data": {
            "text/plain": [
              "'2022-03-01'"
            ],
            "application/vnd.google.colaboratory.intrinsic+json": {
              "type": "string"
            }
          },
          "metadata": {}
        }
      ],
      "source": [
        "petro = pd.read_csv('https://raw.githubusercontent.com/sergiolcrezende/Mackenzie/main/crude-oil-price.v4.csv')\n",
        "\n",
        "display('shape: ',petro.shape)\n",
        "display('head:', petro.head())\n",
        "display('tail:',petro.tail())\n",
        "display('quantidade de preço:', petro.price.value_counts())\n",
        "display('datas duplicadas:',petro.date.duplicated().sum())\n",
        "display('data minima e máxima:', petro.date.min(), petro.date.max())\n"
      ]
    },
    {
      "cell_type": "markdown",
      "source": [
        "### Abertura do arquivo base do estudo com relação as ações da petrobrás e avaliação dos dados após a importação "
      ],
      "metadata": {
        "id": "anWiyo4iTDG2"
      }
    },
    {
      "cell_type": "code",
      "source": [
        "acao = pd.read_csv('https://raw.githubusercontent.com/sergiolcrezende/Mackenzie/main/PETR4.dados.historicos.v5.csv')\n",
        "\n",
        "display('shape: ',acao.shape)\n",
        "display('head:', acao.head())\n",
        "display('tail:',acao.tail())\n",
        "display('quantidade de variacao:', acao.Variacao.value_counts())\n",
        "display('datas duplicadas:',acao.data.duplicated().sum())\n",
        "display('data minima e máxima:', acao.data.min(),acao.data.max())\n"
      ],
      "metadata": {
        "colab": {
          "base_uri": "https://localhost:8080/",
          "height": 786
        },
        "id": "SZcEy3XGsZNX",
        "outputId": "37e6f79b-34f8-4934-d1a0-8b917b7c7ef1"
      },
      "execution_count": 216,
      "outputs": [
        {
          "output_type": "display_data",
          "data": {
            "text/plain": [
              "'shape: '"
            ],
            "application/vnd.google.colaboratory.intrinsic+json": {
              "type": "string"
            }
          },
          "metadata": {}
        },
        {
          "output_type": "display_data",
          "data": {
            "text/plain": [
              "(1037, 7)"
            ]
          },
          "metadata": {}
        },
        {
          "output_type": "display_data",
          "data": {
            "text/plain": [
              "'head:'"
            ],
            "application/vnd.google.colaboratory.intrinsic+json": {
              "type": "string"
            }
          },
          "metadata": {}
        },
        {
          "output_type": "display_data",
          "data": {
            "text/plain": [
              "         data  ultimo  abertura  maxima  minima  Volume Variacao\n",
              "0  11/03/2022   32.49     33.91   34.38   32.07   92.15   -3.59%\n",
              "1  10/03/2022   33.70     32.60   34.60   32.52  136.44    3.50%\n",
              "2  09/03/2022   32.56     32.60   32.82   31.74   87.78    0.31%\n",
              "3  08/03/2022   32.46     32.00   32.97   31.51  111.63    2.08%\n",
              "4  07/03/2022   31.80     34.50   34.60   31.63  110.95   -7.10%"
            ],
            "text/html": [
              "\n",
              "  <div id=\"df-c3d62357-2054-48de-b607-423291838a94\">\n",
              "    <div class=\"colab-df-container\">\n",
              "      <div>\n",
              "<style scoped>\n",
              "    .dataframe tbody tr th:only-of-type {\n",
              "        vertical-align: middle;\n",
              "    }\n",
              "\n",
              "    .dataframe tbody tr th {\n",
              "        vertical-align: top;\n",
              "    }\n",
              "\n",
              "    .dataframe thead th {\n",
              "        text-align: right;\n",
              "    }\n",
              "</style>\n",
              "<table border=\"1\" class=\"dataframe\">\n",
              "  <thead>\n",
              "    <tr style=\"text-align: right;\">\n",
              "      <th></th>\n",
              "      <th>data</th>\n",
              "      <th>ultimo</th>\n",
              "      <th>abertura</th>\n",
              "      <th>maxima</th>\n",
              "      <th>minima</th>\n",
              "      <th>Volume</th>\n",
              "      <th>Variacao</th>\n",
              "    </tr>\n",
              "  </thead>\n",
              "  <tbody>\n",
              "    <tr>\n",
              "      <th>0</th>\n",
              "      <td>11/03/2022</td>\n",
              "      <td>32.49</td>\n",
              "      <td>33.91</td>\n",
              "      <td>34.38</td>\n",
              "      <td>32.07</td>\n",
              "      <td>92.15</td>\n",
              "      <td>-3.59%</td>\n",
              "    </tr>\n",
              "    <tr>\n",
              "      <th>1</th>\n",
              "      <td>10/03/2022</td>\n",
              "      <td>33.70</td>\n",
              "      <td>32.60</td>\n",
              "      <td>34.60</td>\n",
              "      <td>32.52</td>\n",
              "      <td>136.44</td>\n",
              "      <td>3.50%</td>\n",
              "    </tr>\n",
              "    <tr>\n",
              "      <th>2</th>\n",
              "      <td>09/03/2022</td>\n",
              "      <td>32.56</td>\n",
              "      <td>32.60</td>\n",
              "      <td>32.82</td>\n",
              "      <td>31.74</td>\n",
              "      <td>87.78</td>\n",
              "      <td>0.31%</td>\n",
              "    </tr>\n",
              "    <tr>\n",
              "      <th>3</th>\n",
              "      <td>08/03/2022</td>\n",
              "      <td>32.46</td>\n",
              "      <td>32.00</td>\n",
              "      <td>32.97</td>\n",
              "      <td>31.51</td>\n",
              "      <td>111.63</td>\n",
              "      <td>2.08%</td>\n",
              "    </tr>\n",
              "    <tr>\n",
              "      <th>4</th>\n",
              "      <td>07/03/2022</td>\n",
              "      <td>31.80</td>\n",
              "      <td>34.50</td>\n",
              "      <td>34.60</td>\n",
              "      <td>31.63</td>\n",
              "      <td>110.95</td>\n",
              "      <td>-7.10%</td>\n",
              "    </tr>\n",
              "  </tbody>\n",
              "</table>\n",
              "</div>\n",
              "      <button class=\"colab-df-convert\" onclick=\"convertToInteractive('df-c3d62357-2054-48de-b607-423291838a94')\"\n",
              "              title=\"Convert this dataframe to an interactive table.\"\n",
              "              style=\"display:none;\">\n",
              "        \n",
              "  <svg xmlns=\"http://www.w3.org/2000/svg\" height=\"24px\"viewBox=\"0 0 24 24\"\n",
              "       width=\"24px\">\n",
              "    <path d=\"M0 0h24v24H0V0z\" fill=\"none\"/>\n",
              "    <path d=\"M18.56 5.44l.94 2.06.94-2.06 2.06-.94-2.06-.94-.94-2.06-.94 2.06-2.06.94zm-11 1L8.5 8.5l.94-2.06 2.06-.94-2.06-.94L8.5 2.5l-.94 2.06-2.06.94zm10 10l.94 2.06.94-2.06 2.06-.94-2.06-.94-.94-2.06-.94 2.06-2.06.94z\"/><path d=\"M17.41 7.96l-1.37-1.37c-.4-.4-.92-.59-1.43-.59-.52 0-1.04.2-1.43.59L10.3 9.45l-7.72 7.72c-.78.78-.78 2.05 0 2.83L4 21.41c.39.39.9.59 1.41.59.51 0 1.02-.2 1.41-.59l7.78-7.78 2.81-2.81c.8-.78.8-2.07 0-2.86zM5.41 20L4 18.59l7.72-7.72 1.47 1.35L5.41 20z\"/>\n",
              "  </svg>\n",
              "      </button>\n",
              "      \n",
              "  <style>\n",
              "    .colab-df-container {\n",
              "      display:flex;\n",
              "      flex-wrap:wrap;\n",
              "      gap: 12px;\n",
              "    }\n",
              "\n",
              "    .colab-df-convert {\n",
              "      background-color: #E8F0FE;\n",
              "      border: none;\n",
              "      border-radius: 50%;\n",
              "      cursor: pointer;\n",
              "      display: none;\n",
              "      fill: #1967D2;\n",
              "      height: 32px;\n",
              "      padding: 0 0 0 0;\n",
              "      width: 32px;\n",
              "    }\n",
              "\n",
              "    .colab-df-convert:hover {\n",
              "      background-color: #E2EBFA;\n",
              "      box-shadow: 0px 1px 2px rgba(60, 64, 67, 0.3), 0px 1px 3px 1px rgba(60, 64, 67, 0.15);\n",
              "      fill: #174EA6;\n",
              "    }\n",
              "\n",
              "    [theme=dark] .colab-df-convert {\n",
              "      background-color: #3B4455;\n",
              "      fill: #D2E3FC;\n",
              "    }\n",
              "\n",
              "    [theme=dark] .colab-df-convert:hover {\n",
              "      background-color: #434B5C;\n",
              "      box-shadow: 0px 1px 3px 1px rgba(0, 0, 0, 0.15);\n",
              "      filter: drop-shadow(0px 1px 2px rgba(0, 0, 0, 0.3));\n",
              "      fill: #FFFFFF;\n",
              "    }\n",
              "  </style>\n",
              "\n",
              "      <script>\n",
              "        const buttonEl =\n",
              "          document.querySelector('#df-c3d62357-2054-48de-b607-423291838a94 button.colab-df-convert');\n",
              "        buttonEl.style.display =\n",
              "          google.colab.kernel.accessAllowed ? 'block' : 'none';\n",
              "\n",
              "        async function convertToInteractive(key) {\n",
              "          const element = document.querySelector('#df-c3d62357-2054-48de-b607-423291838a94');\n",
              "          const dataTable =\n",
              "            await google.colab.kernel.invokeFunction('convertToInteractive',\n",
              "                                                     [key], {});\n",
              "          if (!dataTable) return;\n",
              "\n",
              "          const docLinkHtml = 'Like what you see? Visit the ' +\n",
              "            '<a target=\"_blank\" href=https://colab.research.google.com/notebooks/data_table.ipynb>data table notebook</a>'\n",
              "            + ' to learn more about interactive tables.';\n",
              "          element.innerHTML = '';\n",
              "          dataTable['output_type'] = 'display_data';\n",
              "          await google.colab.output.renderOutput(dataTable, element);\n",
              "          const docLink = document.createElement('div');\n",
              "          docLink.innerHTML = docLinkHtml;\n",
              "          element.appendChild(docLink);\n",
              "        }\n",
              "      </script>\n",
              "    </div>\n",
              "  </div>\n",
              "  "
            ]
          },
          "metadata": {}
        },
        {
          "output_type": "display_data",
          "data": {
            "text/plain": [
              "'tail:'"
            ],
            "application/vnd.google.colaboratory.intrinsic+json": {
              "type": "string"
            }
          },
          "metadata": {}
        },
        {
          "output_type": "display_data",
          "data": {
            "text/plain": [
              "            data  ultimo  abertura  maxima  minima  Volume Variacao\n",
              "1032  08/01/2018   16.34     16.06   16.34   16.03   28.40    1.18%\n",
              "1033  05/01/2018   16.15     16.02   16.17   15.90   26.96    0.62%\n",
              "1034  04/01/2018   16.05     16.10   16.27   15.94   37.06    0.19%\n",
              "1035  03/01/2018   16.02     15.82   16.04   15.70   55.94    0.88%\n",
              "1036  02/01/2018   15.88     15.53   15.88   15.53   33.46    2.78%"
            ],
            "text/html": [
              "\n",
              "  <div id=\"df-fd03c648-7433-4861-8884-0bfa7f424571\">\n",
              "    <div class=\"colab-df-container\">\n",
              "      <div>\n",
              "<style scoped>\n",
              "    .dataframe tbody tr th:only-of-type {\n",
              "        vertical-align: middle;\n",
              "    }\n",
              "\n",
              "    .dataframe tbody tr th {\n",
              "        vertical-align: top;\n",
              "    }\n",
              "\n",
              "    .dataframe thead th {\n",
              "        text-align: right;\n",
              "    }\n",
              "</style>\n",
              "<table border=\"1\" class=\"dataframe\">\n",
              "  <thead>\n",
              "    <tr style=\"text-align: right;\">\n",
              "      <th></th>\n",
              "      <th>data</th>\n",
              "      <th>ultimo</th>\n",
              "      <th>abertura</th>\n",
              "      <th>maxima</th>\n",
              "      <th>minima</th>\n",
              "      <th>Volume</th>\n",
              "      <th>Variacao</th>\n",
              "    </tr>\n",
              "  </thead>\n",
              "  <tbody>\n",
              "    <tr>\n",
              "      <th>1032</th>\n",
              "      <td>08/01/2018</td>\n",
              "      <td>16.34</td>\n",
              "      <td>16.06</td>\n",
              "      <td>16.34</td>\n",
              "      <td>16.03</td>\n",
              "      <td>28.40</td>\n",
              "      <td>1.18%</td>\n",
              "    </tr>\n",
              "    <tr>\n",
              "      <th>1033</th>\n",
              "      <td>05/01/2018</td>\n",
              "      <td>16.15</td>\n",
              "      <td>16.02</td>\n",
              "      <td>16.17</td>\n",
              "      <td>15.90</td>\n",
              "      <td>26.96</td>\n",
              "      <td>0.62%</td>\n",
              "    </tr>\n",
              "    <tr>\n",
              "      <th>1034</th>\n",
              "      <td>04/01/2018</td>\n",
              "      <td>16.05</td>\n",
              "      <td>16.10</td>\n",
              "      <td>16.27</td>\n",
              "      <td>15.94</td>\n",
              "      <td>37.06</td>\n",
              "      <td>0.19%</td>\n",
              "    </tr>\n",
              "    <tr>\n",
              "      <th>1035</th>\n",
              "      <td>03/01/2018</td>\n",
              "      <td>16.02</td>\n",
              "      <td>15.82</td>\n",
              "      <td>16.04</td>\n",
              "      <td>15.70</td>\n",
              "      <td>55.94</td>\n",
              "      <td>0.88%</td>\n",
              "    </tr>\n",
              "    <tr>\n",
              "      <th>1036</th>\n",
              "      <td>02/01/2018</td>\n",
              "      <td>15.88</td>\n",
              "      <td>15.53</td>\n",
              "      <td>15.88</td>\n",
              "      <td>15.53</td>\n",
              "      <td>33.46</td>\n",
              "      <td>2.78%</td>\n",
              "    </tr>\n",
              "  </tbody>\n",
              "</table>\n",
              "</div>\n",
              "      <button class=\"colab-df-convert\" onclick=\"convertToInteractive('df-fd03c648-7433-4861-8884-0bfa7f424571')\"\n",
              "              title=\"Convert this dataframe to an interactive table.\"\n",
              "              style=\"display:none;\">\n",
              "        \n",
              "  <svg xmlns=\"http://www.w3.org/2000/svg\" height=\"24px\"viewBox=\"0 0 24 24\"\n",
              "       width=\"24px\">\n",
              "    <path d=\"M0 0h24v24H0V0z\" fill=\"none\"/>\n",
              "    <path d=\"M18.56 5.44l.94 2.06.94-2.06 2.06-.94-2.06-.94-.94-2.06-.94 2.06-2.06.94zm-11 1L8.5 8.5l.94-2.06 2.06-.94-2.06-.94L8.5 2.5l-.94 2.06-2.06.94zm10 10l.94 2.06.94-2.06 2.06-.94-2.06-.94-.94-2.06-.94 2.06-2.06.94z\"/><path d=\"M17.41 7.96l-1.37-1.37c-.4-.4-.92-.59-1.43-.59-.52 0-1.04.2-1.43.59L10.3 9.45l-7.72 7.72c-.78.78-.78 2.05 0 2.83L4 21.41c.39.39.9.59 1.41.59.51 0 1.02-.2 1.41-.59l7.78-7.78 2.81-2.81c.8-.78.8-2.07 0-2.86zM5.41 20L4 18.59l7.72-7.72 1.47 1.35L5.41 20z\"/>\n",
              "  </svg>\n",
              "      </button>\n",
              "      \n",
              "  <style>\n",
              "    .colab-df-container {\n",
              "      display:flex;\n",
              "      flex-wrap:wrap;\n",
              "      gap: 12px;\n",
              "    }\n",
              "\n",
              "    .colab-df-convert {\n",
              "      background-color: #E8F0FE;\n",
              "      border: none;\n",
              "      border-radius: 50%;\n",
              "      cursor: pointer;\n",
              "      display: none;\n",
              "      fill: #1967D2;\n",
              "      height: 32px;\n",
              "      padding: 0 0 0 0;\n",
              "      width: 32px;\n",
              "    }\n",
              "\n",
              "    .colab-df-convert:hover {\n",
              "      background-color: #E2EBFA;\n",
              "      box-shadow: 0px 1px 2px rgba(60, 64, 67, 0.3), 0px 1px 3px 1px rgba(60, 64, 67, 0.15);\n",
              "      fill: #174EA6;\n",
              "    }\n",
              "\n",
              "    [theme=dark] .colab-df-convert {\n",
              "      background-color: #3B4455;\n",
              "      fill: #D2E3FC;\n",
              "    }\n",
              "\n",
              "    [theme=dark] .colab-df-convert:hover {\n",
              "      background-color: #434B5C;\n",
              "      box-shadow: 0px 1px 3px 1px rgba(0, 0, 0, 0.15);\n",
              "      filter: drop-shadow(0px 1px 2px rgba(0, 0, 0, 0.3));\n",
              "      fill: #FFFFFF;\n",
              "    }\n",
              "  </style>\n",
              "\n",
              "      <script>\n",
              "        const buttonEl =\n",
              "          document.querySelector('#df-fd03c648-7433-4861-8884-0bfa7f424571 button.colab-df-convert');\n",
              "        buttonEl.style.display =\n",
              "          google.colab.kernel.accessAllowed ? 'block' : 'none';\n",
              "\n",
              "        async function convertToInteractive(key) {\n",
              "          const element = document.querySelector('#df-fd03c648-7433-4861-8884-0bfa7f424571');\n",
              "          const dataTable =\n",
              "            await google.colab.kernel.invokeFunction('convertToInteractive',\n",
              "                                                     [key], {});\n",
              "          if (!dataTable) return;\n",
              "\n",
              "          const docLinkHtml = 'Like what you see? Visit the ' +\n",
              "            '<a target=\"_blank\" href=https://colab.research.google.com/notebooks/data_table.ipynb>data table notebook</a>'\n",
              "            + ' to learn more about interactive tables.';\n",
              "          element.innerHTML = '';\n",
              "          dataTable['output_type'] = 'display_data';\n",
              "          await google.colab.output.renderOutput(dataTable, element);\n",
              "          const docLink = document.createElement('div');\n",
              "          docLink.innerHTML = docLinkHtml;\n",
              "          element.appendChild(docLink);\n",
              "        }\n",
              "      </script>\n",
              "    </div>\n",
              "  </div>\n",
              "  "
            ]
          },
          "metadata": {}
        },
        {
          "output_type": "display_data",
          "data": {
            "text/plain": [
              "'quantidade de variacao:'"
            ],
            "application/vnd.google.colaboratory.intrinsic+json": {
              "type": "string"
            }
          },
          "metadata": {}
        },
        {
          "output_type": "display_data",
          "data": {
            "text/plain": [
              "0.00%     9\n",
              "0.18%     6\n",
              "0.86%     5\n",
              "1.33%     5\n",
              "-0.56%    5\n",
              "         ..\n",
              "5.51%     1\n",
              "-3.71%    1\n",
              "-3.17%    1\n",
              "-4.11%    1\n",
              "0.88%     1\n",
              "Name: Variacao, Length: 630, dtype: int64"
            ]
          },
          "metadata": {}
        },
        {
          "output_type": "display_data",
          "data": {
            "text/plain": [
              "'datas duplicadas:'"
            ],
            "application/vnd.google.colaboratory.intrinsic+json": {
              "type": "string"
            }
          },
          "metadata": {}
        },
        {
          "output_type": "display_data",
          "data": {
            "text/plain": [
              "0"
            ]
          },
          "metadata": {}
        },
        {
          "output_type": "display_data",
          "data": {
            "text/plain": [
              "'data minima e máxima:'"
            ],
            "application/vnd.google.colaboratory.intrinsic+json": {
              "type": "string"
            }
          },
          "metadata": {}
        },
        {
          "output_type": "display_data",
          "data": {
            "text/plain": [
              "'01/02/2018'"
            ],
            "application/vnd.google.colaboratory.intrinsic+json": {
              "type": "string"
            }
          },
          "metadata": {}
        },
        {
          "output_type": "display_data",
          "data": {
            "text/plain": [
              "'31/10/2019'"
            ],
            "application/vnd.google.colaboratory.intrinsic+json": {
              "type": "string"
            }
          },
          "metadata": {}
        }
      ]
    },
    {
      "cell_type": "markdown",
      "source": [
        "### Renomeando o campo 'data' do arquivo de \"Ação\" para o mesmo padrão do arquivo \"Petróleo\" e mostrando  o resultado"
      ],
      "metadata": {
        "id": "mEex1mpGVnip"
      }
    },
    {
      "cell_type": "code",
      "source": [
        "acao = acao.rename(columns={'data': 'date'})\n",
        "display(1,acao.head())\n"
      ],
      "metadata": {
        "colab": {
          "base_uri": "https://localhost:8080/",
          "height": 223
        },
        "id": "cd92yOMO6PNC",
        "outputId": "abba8b20-61ff-4005-a823-bac563ca89ce"
      },
      "execution_count": 217,
      "outputs": [
        {
          "output_type": "display_data",
          "data": {
            "text/plain": [
              "1"
            ]
          },
          "metadata": {}
        },
        {
          "output_type": "display_data",
          "data": {
            "text/plain": [
              "         date  ultimo  abertura  maxima  minima  Volume Variacao\n",
              "0  11/03/2022   32.49     33.91   34.38   32.07   92.15   -3.59%\n",
              "1  10/03/2022   33.70     32.60   34.60   32.52  136.44    3.50%\n",
              "2  09/03/2022   32.56     32.60   32.82   31.74   87.78    0.31%\n",
              "3  08/03/2022   32.46     32.00   32.97   31.51  111.63    2.08%\n",
              "4  07/03/2022   31.80     34.50   34.60   31.63  110.95   -7.10%"
            ],
            "text/html": [
              "\n",
              "  <div id=\"df-4bdc5f7f-5beb-40d2-968b-004018d3bfc8\">\n",
              "    <div class=\"colab-df-container\">\n",
              "      <div>\n",
              "<style scoped>\n",
              "    .dataframe tbody tr th:only-of-type {\n",
              "        vertical-align: middle;\n",
              "    }\n",
              "\n",
              "    .dataframe tbody tr th {\n",
              "        vertical-align: top;\n",
              "    }\n",
              "\n",
              "    .dataframe thead th {\n",
              "        text-align: right;\n",
              "    }\n",
              "</style>\n",
              "<table border=\"1\" class=\"dataframe\">\n",
              "  <thead>\n",
              "    <tr style=\"text-align: right;\">\n",
              "      <th></th>\n",
              "      <th>date</th>\n",
              "      <th>ultimo</th>\n",
              "      <th>abertura</th>\n",
              "      <th>maxima</th>\n",
              "      <th>minima</th>\n",
              "      <th>Volume</th>\n",
              "      <th>Variacao</th>\n",
              "    </tr>\n",
              "  </thead>\n",
              "  <tbody>\n",
              "    <tr>\n",
              "      <th>0</th>\n",
              "      <td>11/03/2022</td>\n",
              "      <td>32.49</td>\n",
              "      <td>33.91</td>\n",
              "      <td>34.38</td>\n",
              "      <td>32.07</td>\n",
              "      <td>92.15</td>\n",
              "      <td>-3.59%</td>\n",
              "    </tr>\n",
              "    <tr>\n",
              "      <th>1</th>\n",
              "      <td>10/03/2022</td>\n",
              "      <td>33.70</td>\n",
              "      <td>32.60</td>\n",
              "      <td>34.60</td>\n",
              "      <td>32.52</td>\n",
              "      <td>136.44</td>\n",
              "      <td>3.50%</td>\n",
              "    </tr>\n",
              "    <tr>\n",
              "      <th>2</th>\n",
              "      <td>09/03/2022</td>\n",
              "      <td>32.56</td>\n",
              "      <td>32.60</td>\n",
              "      <td>32.82</td>\n",
              "      <td>31.74</td>\n",
              "      <td>87.78</td>\n",
              "      <td>0.31%</td>\n",
              "    </tr>\n",
              "    <tr>\n",
              "      <th>3</th>\n",
              "      <td>08/03/2022</td>\n",
              "      <td>32.46</td>\n",
              "      <td>32.00</td>\n",
              "      <td>32.97</td>\n",
              "      <td>31.51</td>\n",
              "      <td>111.63</td>\n",
              "      <td>2.08%</td>\n",
              "    </tr>\n",
              "    <tr>\n",
              "      <th>4</th>\n",
              "      <td>07/03/2022</td>\n",
              "      <td>31.80</td>\n",
              "      <td>34.50</td>\n",
              "      <td>34.60</td>\n",
              "      <td>31.63</td>\n",
              "      <td>110.95</td>\n",
              "      <td>-7.10%</td>\n",
              "    </tr>\n",
              "  </tbody>\n",
              "</table>\n",
              "</div>\n",
              "      <button class=\"colab-df-convert\" onclick=\"convertToInteractive('df-4bdc5f7f-5beb-40d2-968b-004018d3bfc8')\"\n",
              "              title=\"Convert this dataframe to an interactive table.\"\n",
              "              style=\"display:none;\">\n",
              "        \n",
              "  <svg xmlns=\"http://www.w3.org/2000/svg\" height=\"24px\"viewBox=\"0 0 24 24\"\n",
              "       width=\"24px\">\n",
              "    <path d=\"M0 0h24v24H0V0z\" fill=\"none\"/>\n",
              "    <path d=\"M18.56 5.44l.94 2.06.94-2.06 2.06-.94-2.06-.94-.94-2.06-.94 2.06-2.06.94zm-11 1L8.5 8.5l.94-2.06 2.06-.94-2.06-.94L8.5 2.5l-.94 2.06-2.06.94zm10 10l.94 2.06.94-2.06 2.06-.94-2.06-.94-.94-2.06-.94 2.06-2.06.94z\"/><path d=\"M17.41 7.96l-1.37-1.37c-.4-.4-.92-.59-1.43-.59-.52 0-1.04.2-1.43.59L10.3 9.45l-7.72 7.72c-.78.78-.78 2.05 0 2.83L4 21.41c.39.39.9.59 1.41.59.51 0 1.02-.2 1.41-.59l7.78-7.78 2.81-2.81c.8-.78.8-2.07 0-2.86zM5.41 20L4 18.59l7.72-7.72 1.47 1.35L5.41 20z\"/>\n",
              "  </svg>\n",
              "      </button>\n",
              "      \n",
              "  <style>\n",
              "    .colab-df-container {\n",
              "      display:flex;\n",
              "      flex-wrap:wrap;\n",
              "      gap: 12px;\n",
              "    }\n",
              "\n",
              "    .colab-df-convert {\n",
              "      background-color: #E8F0FE;\n",
              "      border: none;\n",
              "      border-radius: 50%;\n",
              "      cursor: pointer;\n",
              "      display: none;\n",
              "      fill: #1967D2;\n",
              "      height: 32px;\n",
              "      padding: 0 0 0 0;\n",
              "      width: 32px;\n",
              "    }\n",
              "\n",
              "    .colab-df-convert:hover {\n",
              "      background-color: #E2EBFA;\n",
              "      box-shadow: 0px 1px 2px rgba(60, 64, 67, 0.3), 0px 1px 3px 1px rgba(60, 64, 67, 0.15);\n",
              "      fill: #174EA6;\n",
              "    }\n",
              "\n",
              "    [theme=dark] .colab-df-convert {\n",
              "      background-color: #3B4455;\n",
              "      fill: #D2E3FC;\n",
              "    }\n",
              "\n",
              "    [theme=dark] .colab-df-convert:hover {\n",
              "      background-color: #434B5C;\n",
              "      box-shadow: 0px 1px 3px 1px rgba(0, 0, 0, 0.15);\n",
              "      filter: drop-shadow(0px 1px 2px rgba(0, 0, 0, 0.3));\n",
              "      fill: #FFFFFF;\n",
              "    }\n",
              "  </style>\n",
              "\n",
              "      <script>\n",
              "        const buttonEl =\n",
              "          document.querySelector('#df-4bdc5f7f-5beb-40d2-968b-004018d3bfc8 button.colab-df-convert');\n",
              "        buttonEl.style.display =\n",
              "          google.colab.kernel.accessAllowed ? 'block' : 'none';\n",
              "\n",
              "        async function convertToInteractive(key) {\n",
              "          const element = document.querySelector('#df-4bdc5f7f-5beb-40d2-968b-004018d3bfc8');\n",
              "          const dataTable =\n",
              "            await google.colab.kernel.invokeFunction('convertToInteractive',\n",
              "                                                     [key], {});\n",
              "          if (!dataTable) return;\n",
              "\n",
              "          const docLinkHtml = 'Like what you see? Visit the ' +\n",
              "            '<a target=\"_blank\" href=https://colab.research.google.com/notebooks/data_table.ipynb>data table notebook</a>'\n",
              "            + ' to learn more about interactive tables.';\n",
              "          element.innerHTML = '';\n",
              "          dataTable['output_type'] = 'display_data';\n",
              "          await google.colab.output.renderOutput(dataTable, element);\n",
              "          const docLink = document.createElement('div');\n",
              "          docLink.innerHTML = docLinkHtml;\n",
              "          element.appendChild(docLink);\n",
              "        }\n",
              "      </script>\n",
              "    </div>\n",
              "  </div>\n",
              "  "
            ]
          },
          "metadata": {}
        }
      ]
    },
    {
      "cell_type": "markdown",
      "source": [
        "### Formatando o campo 'data'  e mostrando se o campo ficou com datetime"
      ],
      "metadata": {
        "id": "wYkdrYfjWN3D"
      }
    },
    {
      "cell_type": "code",
      "execution_count": 218,
      "metadata": {
        "colab": {
          "base_uri": "https://localhost:8080/",
          "height": 121
        },
        "id": "jckffnOHzVoW",
        "outputId": "b8ffffd4-65fc-4950-853c-249eb2f61db6"
      },
      "outputs": [
        {
          "output_type": "display_data",
          "data": {
            "text/plain": [
              "1"
            ]
          },
          "metadata": {}
        },
        {
          "output_type": "display_data",
          "data": {
            "text/plain": [
              "date             datetime64[ns]\n",
              "price                   float64\n",
              "percentChange           float64\n",
              "change                  float64\n",
              "dtype: object"
            ]
          },
          "metadata": {}
        }
      ],
      "source": [
        "petro.date = pd.to_datetime(petro.date, format='%Y-%m-%d',errors='raise')\n",
        "display(1, petro.dtypes)\n",
        "\n",
        "acao.date = pd.to_datetime(acao.date, format='%d/%m/%Y',errors='raise')\n",
        "display(1, acao.dtypes)"
      ]
    },
    {
      "cell_type": "markdown",
      "source": [
        "### xxx Formatando o campo 'data' do arquivo \"ação\" e mostrando se o campo ficou como datetime"
      ],
      "metadata": {
        "id": "ueKJI5N4WmeF"
      }
    },
    {
      "cell_type": "code",
      "source": [
        ""
      ],
      "metadata": {
        "colab": {
          "base_uri": "https://localhost:8080/",
          "height": 173
        },
        "id": "qI5GmIlF-e4O",
        "outputId": "18dface2-fb7f-4f4f-fe57-c2f267fc5bb1"
      },
      "execution_count": 219,
      "outputs": [
        {
          "output_type": "display_data",
          "data": {
            "text/plain": [
              "1"
            ]
          },
          "metadata": {}
        },
        {
          "output_type": "display_data",
          "data": {
            "text/plain": [
              "date        datetime64[ns]\n",
              "ultimo             float64\n",
              "abertura           float64\n",
              "maxima             float64\n",
              "minima             float64\n",
              "Volume             float64\n",
              "Variacao            object\n",
              "dtype: object"
            ]
          },
          "metadata": {}
        }
      ]
    },
    {
      "cell_type": "markdown",
      "source": [
        "### Incluido o campo 'Variacao' do arquivo 'ação' para o arquivo principal - 'petróleo' e mostrando o novo cabeçalho\n",
        "\n"
      ],
      "metadata": {
        "id": "2Dh_wjWeX_zx"
      }
    },
    {
      "cell_type": "code",
      "source": [
        "petro = pd.merge(petro, acao[['date','Variacao','Volume','maxima']], on='date')\n",
        "display(1,petro.head())"
      ],
      "metadata": {
        "colab": {
          "base_uri": "https://localhost:8080/",
          "height": 223
        },
        "id": "tuE1GLBY8_KS",
        "outputId": "a8dc2cf6-241d-4a1b-c5a3-039cd1b738c0"
      },
      "execution_count": 220,
      "outputs": [
        {
          "output_type": "display_data",
          "data": {
            "text/plain": [
              "1"
            ]
          },
          "metadata": {}
        },
        {
          "output_type": "display_data",
          "data": {
            "text/plain": [
              "        date    price  percentChange  change Variacao  Volume  maxima\n",
              "0 2018-02-01  61.6400      -4.773675 -3.0900    4.18%   51.95   19.78\n",
              "1 2018-03-01  64.9400       5.353666  3.3000   -1.99%   66.38   20.59\n",
              "2 2018-06-01  74.1500      10.605609  7.1100  -14.86%  215.14   18.99\n",
              "3 2018-08-01  69.9977       1.800029  1.2377    1.42%   38.66   19.23\n",
              "4 2018-10-01  65.3100     -11.262622 -8.2892   -0.39%   56.19   20.58"
            ],
            "text/html": [
              "\n",
              "  <div id=\"df-5a211ee6-d0f8-4d7b-a064-6ec5ea8d4947\">\n",
              "    <div class=\"colab-df-container\">\n",
              "      <div>\n",
              "<style scoped>\n",
              "    .dataframe tbody tr th:only-of-type {\n",
              "        vertical-align: middle;\n",
              "    }\n",
              "\n",
              "    .dataframe tbody tr th {\n",
              "        vertical-align: top;\n",
              "    }\n",
              "\n",
              "    .dataframe thead th {\n",
              "        text-align: right;\n",
              "    }\n",
              "</style>\n",
              "<table border=\"1\" class=\"dataframe\">\n",
              "  <thead>\n",
              "    <tr style=\"text-align: right;\">\n",
              "      <th></th>\n",
              "      <th>date</th>\n",
              "      <th>price</th>\n",
              "      <th>percentChange</th>\n",
              "      <th>change</th>\n",
              "      <th>Variacao</th>\n",
              "      <th>Volume</th>\n",
              "      <th>maxima</th>\n",
              "    </tr>\n",
              "  </thead>\n",
              "  <tbody>\n",
              "    <tr>\n",
              "      <th>0</th>\n",
              "      <td>2018-02-01</td>\n",
              "      <td>61.6400</td>\n",
              "      <td>-4.773675</td>\n",
              "      <td>-3.0900</td>\n",
              "      <td>4.18%</td>\n",
              "      <td>51.95</td>\n",
              "      <td>19.78</td>\n",
              "    </tr>\n",
              "    <tr>\n",
              "      <th>1</th>\n",
              "      <td>2018-03-01</td>\n",
              "      <td>64.9400</td>\n",
              "      <td>5.353666</td>\n",
              "      <td>3.3000</td>\n",
              "      <td>-1.99%</td>\n",
              "      <td>66.38</td>\n",
              "      <td>20.59</td>\n",
              "    </tr>\n",
              "    <tr>\n",
              "      <th>2</th>\n",
              "      <td>2018-06-01</td>\n",
              "      <td>74.1500</td>\n",
              "      <td>10.605609</td>\n",
              "      <td>7.1100</td>\n",
              "      <td>-14.86%</td>\n",
              "      <td>215.14</td>\n",
              "      <td>18.99</td>\n",
              "    </tr>\n",
              "    <tr>\n",
              "      <th>3</th>\n",
              "      <td>2018-08-01</td>\n",
              "      <td>69.9977</td>\n",
              "      <td>1.800029</td>\n",
              "      <td>1.2377</td>\n",
              "      <td>1.42%</td>\n",
              "      <td>38.66</td>\n",
              "      <td>19.23</td>\n",
              "    </tr>\n",
              "    <tr>\n",
              "      <th>4</th>\n",
              "      <td>2018-10-01</td>\n",
              "      <td>65.3100</td>\n",
              "      <td>-11.262622</td>\n",
              "      <td>-8.2892</td>\n",
              "      <td>-0.39%</td>\n",
              "      <td>56.19</td>\n",
              "      <td>20.58</td>\n",
              "    </tr>\n",
              "  </tbody>\n",
              "</table>\n",
              "</div>\n",
              "      <button class=\"colab-df-convert\" onclick=\"convertToInteractive('df-5a211ee6-d0f8-4d7b-a064-6ec5ea8d4947')\"\n",
              "              title=\"Convert this dataframe to an interactive table.\"\n",
              "              style=\"display:none;\">\n",
              "        \n",
              "  <svg xmlns=\"http://www.w3.org/2000/svg\" height=\"24px\"viewBox=\"0 0 24 24\"\n",
              "       width=\"24px\">\n",
              "    <path d=\"M0 0h24v24H0V0z\" fill=\"none\"/>\n",
              "    <path d=\"M18.56 5.44l.94 2.06.94-2.06 2.06-.94-2.06-.94-.94-2.06-.94 2.06-2.06.94zm-11 1L8.5 8.5l.94-2.06 2.06-.94-2.06-.94L8.5 2.5l-.94 2.06-2.06.94zm10 10l.94 2.06.94-2.06 2.06-.94-2.06-.94-.94-2.06-.94 2.06-2.06.94z\"/><path d=\"M17.41 7.96l-1.37-1.37c-.4-.4-.92-.59-1.43-.59-.52 0-1.04.2-1.43.59L10.3 9.45l-7.72 7.72c-.78.78-.78 2.05 0 2.83L4 21.41c.39.39.9.59 1.41.59.51 0 1.02-.2 1.41-.59l7.78-7.78 2.81-2.81c.8-.78.8-2.07 0-2.86zM5.41 20L4 18.59l7.72-7.72 1.47 1.35L5.41 20z\"/>\n",
              "  </svg>\n",
              "      </button>\n",
              "      \n",
              "  <style>\n",
              "    .colab-df-container {\n",
              "      display:flex;\n",
              "      flex-wrap:wrap;\n",
              "      gap: 12px;\n",
              "    }\n",
              "\n",
              "    .colab-df-convert {\n",
              "      background-color: #E8F0FE;\n",
              "      border: none;\n",
              "      border-radius: 50%;\n",
              "      cursor: pointer;\n",
              "      display: none;\n",
              "      fill: #1967D2;\n",
              "      height: 32px;\n",
              "      padding: 0 0 0 0;\n",
              "      width: 32px;\n",
              "    }\n",
              "\n",
              "    .colab-df-convert:hover {\n",
              "      background-color: #E2EBFA;\n",
              "      box-shadow: 0px 1px 2px rgba(60, 64, 67, 0.3), 0px 1px 3px 1px rgba(60, 64, 67, 0.15);\n",
              "      fill: #174EA6;\n",
              "    }\n",
              "\n",
              "    [theme=dark] .colab-df-convert {\n",
              "      background-color: #3B4455;\n",
              "      fill: #D2E3FC;\n",
              "    }\n",
              "\n",
              "    [theme=dark] .colab-df-convert:hover {\n",
              "      background-color: #434B5C;\n",
              "      box-shadow: 0px 1px 3px 1px rgba(0, 0, 0, 0.15);\n",
              "      filter: drop-shadow(0px 1px 2px rgba(0, 0, 0, 0.3));\n",
              "      fill: #FFFFFF;\n",
              "    }\n",
              "  </style>\n",
              "\n",
              "      <script>\n",
              "        const buttonEl =\n",
              "          document.querySelector('#df-5a211ee6-d0f8-4d7b-a064-6ec5ea8d4947 button.colab-df-convert');\n",
              "        buttonEl.style.display =\n",
              "          google.colab.kernel.accessAllowed ? 'block' : 'none';\n",
              "\n",
              "        async function convertToInteractive(key) {\n",
              "          const element = document.querySelector('#df-5a211ee6-d0f8-4d7b-a064-6ec5ea8d4947');\n",
              "          const dataTable =\n",
              "            await google.colab.kernel.invokeFunction('convertToInteractive',\n",
              "                                                     [key], {});\n",
              "          if (!dataTable) return;\n",
              "\n",
              "          const docLinkHtml = 'Like what you see? Visit the ' +\n",
              "            '<a target=\"_blank\" href=https://colab.research.google.com/notebooks/data_table.ipynb>data table notebook</a>'\n",
              "            + ' to learn more about interactive tables.';\n",
              "          element.innerHTML = '';\n",
              "          dataTable['output_type'] = 'display_data';\n",
              "          await google.colab.output.renderOutput(dataTable, element);\n",
              "          const docLink = document.createElement('div');\n",
              "          docLink.innerHTML = docLinkHtml;\n",
              "          element.appendChild(docLink);\n",
              "        }\n",
              "      </script>\n",
              "    </div>\n",
              "  </div>\n",
              "  "
            ]
          },
          "metadata": {}
        }
      ]
    },
    {
      "cell_type": "markdown",
      "source": [
        "### Verificando se tem campo nulo no arquivo 'petroleo' e mostrando a estatistica do arquivo"
      ],
      "metadata": {
        "id": "bK9kTgdyYbe5"
      }
    },
    {
      "cell_type": "code",
      "execution_count": 221,
      "metadata": {
        "colab": {
          "base_uri": "https://localhost:8080/"
        },
        "id": "7FNOIo-L6ILR",
        "outputId": "c2dc88d2-3350-4965-dd65-920a7d40a76d"
      },
      "outputs": [
        {
          "output_type": "stream",
          "name": "stdout",
          "text": [
            "date             0\n",
            "price            0\n",
            "percentChange    0\n",
            "change           0\n",
            "Variacao         0\n",
            "Volume           0\n",
            "maxima           0\n",
            "dtype: int64\n",
            "           price  percentChange     change      Volume     maxima\n",
            "count  37.000000      37.000000  37.000000   37.000000  37.000000\n",
            "mean   58.788511       0.578124   0.524476   72.740000  25.227297\n",
            "std    16.457504      13.446773   7.461570   33.911663   4.051815\n",
            "min    18.840000     -54.244861 -24.280000   32.220000  14.550000\n",
            "25%    50.930000      -5.609012  -2.390000   47.970000  22.550000\n",
            "50%    60.140000       5.103111   2.340000   65.900000  26.380000\n",
            "75%    68.500000       8.996401   4.420000   90.020000  27.700000\n",
            "max    95.720000      18.454085  11.610000  215.140000  33.320000\n"
          ]
        }
      ],
      "source": [
        "print(petro.isnull().sum())\n",
        "print(petro.describe())"
      ]
    },
    {
      "cell_type": "markdown",
      "source": [
        "### Gerando indice que  será utilizado nos gráficos"
      ],
      "metadata": {
        "id": "ILna3fZ3YrpD"
      }
    },
    {
      "cell_type": "code",
      "execution_count": 222,
      "metadata": {
        "colab": {
          "base_uri": "https://localhost:8080/"
        },
        "id": "aMi3YVT97VJ4",
        "outputId": "29ccc2fe-64f6-402a-85f5-09f9624f251b"
      },
      "outputs": [
        {
          "output_type": "execute_result",
          "data": {
            "text/plain": [
              "Int64Index([ 0,  1,  2,  3,  4,  5,  6,  7,  8,  9, 10, 11, 12, 13, 14, 15, 16,\n",
              "            17, 18, 19, 20, 21, 22, 23, 24, 25, 26, 27, 28, 29, 30, 31, 32, 33,\n",
              "            34, 35, 36],\n",
              "           dtype='int64')"
            ]
          },
          "metadata": {},
          "execution_count": 222
        }
      ],
      "source": [
        "petro.index"
      ]
    },
    {
      "cell_type": "markdown",
      "source": [
        "###1a. pergunta) Qual a tendêndia do preço do petróleo no período de 50 meses.\n",
        "🎢"
      ],
      "metadata": {
        "id": "Av7ok0-qZr1d"
      }
    },
    {
      "cell_type": "code",
      "execution_count": 223,
      "metadata": {
        "colab": {
          "base_uri": "https://localhost:8080/",
          "height": 406
        },
        "id": "pTOktSNO7hTB",
        "outputId": "8b85fa39-e805-48ea-d188-cbd5d41dd10d"
      },
      "outputs": [
        {
          "output_type": "display_data",
          "data": {
            "text/plain": [
              "<Figure size 1008x432 with 1 Axes>"
            ],
            "image/png": "[encoded data removed]"
          },
          "metadata": {
            "needs_background": "light"
          }
        }
      ],
      "source": [
        "fig, ax = plt.subplots(figsize=(14,6))\n",
        "ax.plot(petro.index, petro.price, label='PREÇO')\n",
        "ax.set_title('Tendência do Preço do Petróleo  (Regressão a Intervalo Fixo)', fontsize=14, weight='bold')\n",
        "ax.set_xlabel(\"date\")\n",
        "ax.set_ylabel(\"Valor (R$)\")\n",
        "\n",
        "z = np.polyfit(petro.index,petro.price, 1)\n",
        "p = np.poly1d(z)\n",
        "ax.plot(petro.index,p(petro.index), linestyle='dashed', label='Linear(x)' ,linewidth=2, color='k')\n",
        "ax.legend(fontsize=12)\n",
        "\n",
        "import matplotlib.ticker as ticker\n",
        "ax.xaxis.set_major_locator(ticker.MaxNLocator(5))\n",
        "ax.set_xticklabels(['',petro.iloc[0].date.date(),'',petro.iloc[10].date.date(),'',petro.iloc[20].date.date()])\n",
        "\n",
        "plt.show()"
      ]
    },
    {
      "cell_type": "markdown",
      "source": [
        "O gráfico mostra a tendêndia do preço do petróleo no período de 50 meses.\n",
        " Onde em novembro de 2018 teve a menor baixa e em fevereiro sua maior alta, isso devido a guerra da Rússia e a Ucránia.\n",
        "O gráfico mostra que está ocorrendo mais subida no preço do petróleo a partir de 2018, tendo somente uma 2019, mas voltando a subir em seguida."
      ],
      "metadata": {
        "id": "jX5_dHBbimnz"
      }
    },
    {
      "cell_type": "markdown",
      "source": [
        "### xxx Criando uma coluna 'dias' para saber quantos dias entre a data atual e data minima"
      ],
      "metadata": {
        "id": "zbYBLaG2c4P8"
      }
    },
    {
      "cell_type": "code",
      "execution_count": 224,
      "metadata": {
        "id": "CWG9ZK5HJ3wV"
      },
      "outputs": [],
      "source": [
        "#petro['dias'] = petro['date'] - petro['date'].min()"
      ]
    },
    {
      "cell_type": "code",
      "source": [
        "#display('head:', petro.head())"
      ],
      "metadata": {
        "colab": {
          "base_uri": "https://localhost:8080/",
          "height": 225
        },
        "id": "n75tSlUzFqxH",
        "outputId": "c8a5bd9e-9a78-49fa-c8a1-9ec55fab84e8"
      },
      "execution_count": 225,
      "outputs": [
        {
          "output_type": "display_data",
          "data": {
            "text/plain": [
              "'head:'"
            ],
            "application/vnd.google.colaboratory.intrinsic+json": {
              "type": "string"
            }
          },
          "metadata": {}
        },
        {
          "output_type": "display_data",
          "data": {
            "text/plain": [
              "        date    price  percentChange  change Variacao  Volume  maxima     dias\n",
              "0 2018-02-01  61.6400      -4.773675 -3.0900    4.18%   51.95   19.78   0 days\n",
              "1 2018-03-01  64.9400       5.353666  3.3000   -1.99%   66.38   20.59  28 days\n",
              "2 2018-06-01  74.1500      10.605609  7.1100  -14.86%  215.14   18.99 120 days\n",
              "3 2018-08-01  69.9977       1.800029  1.2377    1.42%   38.66   19.23 181 days\n",
              "4 2018-10-01  65.3100     -11.262622 -8.2892   -0.39%   56.19   20.58 242 days"
            ],
            "text/html": [
              "\n",
              "  <div id=\"df-60c7d3b8-4008-44e9-97cd-be6a62c3275c\">\n",
              "    <div class=\"colab-df-container\">\n",
              "      <div>\n",
              "<style scoped>\n",
              "    .dataframe tbody tr th:only-of-type {\n",
              "        vertical-align: middle;\n",
              "    }\n",
              "\n",
              "    .dataframe tbody tr th {\n",
              "        vertical-align: top;\n",
              "    }\n",
              "\n",
              "    .dataframe thead th {\n",
              "        text-align: right;\n",
              "    }\n",
              "</style>\n",
              "<table border=\"1\" class=\"dataframe\">\n",
              "  <thead>\n",
              "    <tr style=\"text-align: right;\">\n",
              "      <th></th>\n",
              "      <th>date</th>\n",
              "      <th>price</th>\n",
              "      <th>percentChange</th>\n",
              "      <th>change</th>\n",
              "      <th>Variacao</th>\n",
              "      <th>Volume</th>\n",
              "      <th>maxima</th>\n",
              "      <th>dias</th>\n",
              "    </tr>\n",
              "  </thead>\n",
              "  <tbody>\n",
              "    <tr>\n",
              "      <th>0</th>\n",
              "      <td>2018-02-01</td>\n",
              "      <td>61.6400</td>\n",
              "      <td>-4.773675</td>\n",
              "      <td>-3.0900</td>\n",
              "      <td>4.18%</td>\n",
              "      <td>51.95</td>\n",
              "      <td>19.78</td>\n",
              "      <td>0 days</td>\n",
              "    </tr>\n",
              "    <tr>\n",
              "      <th>1</th>\n",
              "      <td>2018-03-01</td>\n",
              "      <td>64.9400</td>\n",
              "      <td>5.353666</td>\n",
              "      <td>3.3000</td>\n",
              "      <td>-1.99%</td>\n",
              "      <td>66.38</td>\n",
              "      <td>20.59</td>\n",
              "      <td>28 days</td>\n",
              "    </tr>\n",
              "    <tr>\n",
              "      <th>2</th>\n",
              "      <td>2018-06-01</td>\n",
              "      <td>74.1500</td>\n",
              "      <td>10.605609</td>\n",
              "      <td>7.1100</td>\n",
              "      <td>-14.86%</td>\n",
              "      <td>215.14</td>\n",
              "      <td>18.99</td>\n",
              "      <td>120 days</td>\n",
              "    </tr>\n",
              "    <tr>\n",
              "      <th>3</th>\n",
              "      <td>2018-08-01</td>\n",
              "      <td>69.9977</td>\n",
              "      <td>1.800029</td>\n",
              "      <td>1.2377</td>\n",
              "      <td>1.42%</td>\n",
              "      <td>38.66</td>\n",
              "      <td>19.23</td>\n",
              "      <td>181 days</td>\n",
              "    </tr>\n",
              "    <tr>\n",
              "      <th>4</th>\n",
              "      <td>2018-10-01</td>\n",
              "      <td>65.3100</td>\n",
              "      <td>-11.262622</td>\n",
              "      <td>-8.2892</td>\n",
              "      <td>-0.39%</td>\n",
              "      <td>56.19</td>\n",
              "      <td>20.58</td>\n",
              "      <td>242 days</td>\n",
              "    </tr>\n",
              "  </tbody>\n",
              "</table>\n",
              "</div>\n",
              "      <button class=\"colab-df-convert\" onclick=\"convertToInteractive('df-60c7d3b8-4008-44e9-97cd-be6a62c3275c')\"\n",
              "              title=\"Convert this dataframe to an interactive table.\"\n",
              "              style=\"display:none;\">\n",
              "        \n",
              "  <svg xmlns=\"http://www.w3.org/2000/svg\" height=\"24px\"viewBox=\"0 0 24 24\"\n",
              "       width=\"24px\">\n",
              "    <path d=\"M0 0h24v24H0V0z\" fill=\"none\"/>\n",
              "    <path d=\"M18.56 5.44l.94 2.06.94-2.06 2.06-.94-2.06-.94-.94-2.06-.94 2.06-2.06.94zm-11 1L8.5 8.5l.94-2.06 2.06-.94-2.06-.94L8.5 2.5l-.94 2.06-2.06.94zm10 10l.94 2.06.94-2.06 2.06-.94-2.06-.94-.94-2.06-.94 2.06-2.06.94z\"/><path d=\"M17.41 7.96l-1.37-1.37c-.4-.4-.92-.59-1.43-.59-.52 0-1.04.2-1.43.59L10.3 9.45l-7.72 7.72c-.78.78-.78 2.05 0 2.83L4 21.41c.39.39.9.59 1.41.59.51 0 1.02-.2 1.41-.59l7.78-7.78 2.81-2.81c.8-.78.8-2.07 0-2.86zM5.41 20L4 18.59l7.72-7.72 1.47 1.35L5.41 20z\"/>\n",
              "  </svg>\n",
              "      </button>\n",
              "      \n",
              "  <style>\n",
              "    .colab-df-container {\n",
              "      display:flex;\n",
              "      flex-wrap:wrap;\n",
              "      gap: 12px;\n",
              "    }\n",
              "\n",
              "    .colab-df-convert {\n",
              "      background-color: #E8F0FE;\n",
              "      border: none;\n",
              "      border-radius: 50%;\n",
              "      cursor: pointer;\n",
              "      display: none;\n",
              "      fill: #1967D2;\n",
              "      height: 32px;\n",
              "      padding: 0 0 0 0;\n",
              "      width: 32px;\n",
              "    }\n",
              "\n",
              "    .colab-df-convert:hover {\n",
              "      background-color: #E2EBFA;\n",
              "      box-shadow: 0px 1px 2px rgba(60, 64, 67, 0.3), 0px 1px 3px 1px rgba(60, 64, 67, 0.15);\n",
              "      fill: #174EA6;\n",
              "    }\n",
              "\n",
              "    [theme=dark] .colab-df-convert {\n",
              "      background-color: #3B4455;\n",
              "      fill: #D2E3FC;\n",
              "    }\n",
              "\n",
              "    [theme=dark] .colab-df-convert:hover {\n",
              "      background-color: #434B5C;\n",
              "      box-shadow: 0px 1px 3px 1px rgba(0, 0, 0, 0.15);\n",
              "      filter: drop-shadow(0px 1px 2px rgba(0, 0, 0, 0.3));\n",
              "      fill: #FFFFFF;\n",
              "    }\n",
              "  </style>\n",
              "\n",
              "      <script>\n",
              "        const buttonEl =\n",
              "          document.querySelector('#df-60c7d3b8-4008-44e9-97cd-be6a62c3275c button.colab-df-convert');\n",
              "        buttonEl.style.display =\n",
              "          google.colab.kernel.accessAllowed ? 'block' : 'none';\n",
              "\n",
              "        async function convertToInteractive(key) {\n",
              "          const element = document.querySelector('#df-60c7d3b8-4008-44e9-97cd-be6a62c3275c');\n",
              "          const dataTable =\n",
              "            await google.colab.kernel.invokeFunction('convertToInteractive',\n",
              "                                                     [key], {});\n",
              "          if (!dataTable) return;\n",
              "\n",
              "          const docLinkHtml = 'Like what you see? Visit the ' +\n",
              "            '<a target=\"_blank\" href=https://colab.research.google.com/notebooks/data_table.ipynb>data table notebook</a>'\n",
              "            + ' to learn more about interactive tables.';\n",
              "          element.innerHTML = '';\n",
              "          dataTable['output_type'] = 'display_data';\n",
              "          await google.colab.output.renderOutput(dataTable, element);\n",
              "          const docLink = document.createElement('div');\n",
              "          docLink.innerHTML = docLinkHtml;\n",
              "          element.appendChild(docLink);\n",
              "        }\n",
              "      </script>\n",
              "    </div>\n",
              "  </div>\n",
              "  "
            ]
          },
          "metadata": {}
        }
      ]
    },
    {
      "cell_type": "markdown",
      "source": [
        "###   xxx Tendência do preço do petróleo com relação aos dias minimo  e a data atual\\"
      ],
      "metadata": {
        "id": "yLXOvdbNdQY6"
      }
    },
    {
      "cell_type": "code",
      "execution_count": 226,
      "metadata": {
        "colab": {
          "base_uri": "https://localhost:8080/",
          "height": 406
        },
        "id": "9I_-S-ZCJB_K",
        "outputId": "41d8a9c1-5346-4a2d-ea49-46a85943f64f"
      },
      "outputs": [
        {
          "output_type": "display_data",
          "data": {
            "text/plain": [
              "<Figure size 1008x432 with 1 Axes>"
            ],
            "image/png": "[encoded data removed]"
          },
          "metadata": {
            "needs_background": "light"
          }
        }
      ],
      "source": [
        "#fig, ax = plt.subplots(figsize=(14,6))\n",
        "\n",
        "#ax.plot(petro.date, petro.price, label='PREÇO')\n",
        "#ax.set_title('Tendência do Preço do Petróleo (Regressão a Intervalo Variável)', fontsize=14, weight='bold')\n",
        "#ax.set_xlabel(\"date\")\n",
        "#ax.set_ylabel(\"Valor (R$)\")\n",
        "\n",
        "#z = np.polyfit(petro.dias.dt.days,petro.price, 1)\n",
        "#p = np.poly1d(z)\n",
        "#ax.plot(petro.date,p(petro.dias.dt.days), linestyle='dashed', label='Linear(x)' ,linewidth=2, color='k')\n",
        "#ax.legend(fontsize=12)\n",
        "\n",
        "#import matplotlib.ticker as ticker\n",
        "#ax.xaxis.set_major_locator(ticker.MaxNLocator(5))\n",
        "\n",
        "#plt.show()"
      ]
    },
    {
      "cell_type": "markdown",
      "source": [
        "O gráfico mostra a tendêndia do preço do petróleo no período de 50 meses. Onde tem pouca variação entre a data atuaCom relação a data minima e a data atual, é menor  Onde em novembro de 2018 teve a menor baixa e em fevereiro sua maior alta, isso devido a guerra da Rusia e a Ucránia. O gráfico mostra que está ocorrendo mais subida no preço do petróleo a partir de 2018, tendo somente uma 2019, mas voltando a subir em seguida."
      ],
      "metadata": {
        "id": "RuLu4mXDjcCJ"
      }
    },
    {
      "cell_type": "code",
      "source": [
        "petro['week'] = petro['date'].dt.isocalendar().week\n",
        "petro.head()"
      ],
      "metadata": {
        "id": "u6q44ox3sEvZ",
        "colab": {
          "base_uri": "https://localhost:8080/",
          "height": 206
        },
        "outputId": "21c0bc1a-6406-4501-98b0-ec7d834b850d"
      },
      "execution_count": 227,
      "outputs": [
        {
          "output_type": "execute_result",
          "data": {
            "text/plain": [
              "        date    price  percentChange  change Variacao  Volume  maxima  \\\n",
              "0 2018-02-01  61.6400      -4.773675 -3.0900    4.18%   51.95   19.78   \n",
              "1 2018-03-01  64.9400       5.353666  3.3000   -1.99%   66.38   20.59   \n",
              "2 2018-06-01  74.1500      10.605609  7.1100  -14.86%  215.14   18.99   \n",
              "3 2018-08-01  69.9977       1.800029  1.2377    1.42%   38.66   19.23   \n",
              "4 2018-10-01  65.3100     -11.262622 -8.2892   -0.39%   56.19   20.58   \n",
              "\n",
              "      dias  week  \n",
              "0   0 days     5  \n",
              "1  28 days     9  \n",
              "2 120 days    22  \n",
              "3 181 days    31  \n",
              "4 242 days    40  "
            ],
            "text/html": [
              "\n",
              "  <div id=\"df-708c1560-c3f2-4783-abda-b69665a56d9f\">\n",
              "    <div class=\"colab-df-container\">\n",
              "      <div>\n",
              "<style scoped>\n",
              "    .dataframe tbody tr th:only-of-type {\n",
              "        vertical-align: middle;\n",
              "    }\n",
              "\n",
              "    .dataframe tbody tr th {\n",
              "        vertical-align: top;\n",
              "    }\n",
              "\n",
              "    .dataframe thead th {\n",
              "        text-align: right;\n",
              "    }\n",
              "</style>\n",
              "<table border=\"1\" class=\"dataframe\">\n",
              "  <thead>\n",
              "    <tr style=\"text-align: right;\">\n",
              "      <th></th>\n",
              "      <th>date</th>\n",
              "      <th>price</th>\n",
              "      <th>percentChange</th>\n",
              "      <th>change</th>\n",
              "      <th>Variacao</th>\n",
              "      <th>Volume</th>\n",
              "      <th>maxima</th>\n",
              "      <th>dias</th>\n",
              "      <th>week</th>\n",
              "    </tr>\n",
              "  </thead>\n",
              "  <tbody>\n",
              "    <tr>\n",
              "      <th>0</th>\n",
              "      <td>2018-02-01</td>\n",
              "      <td>61.6400</td>\n",
              "      <td>-4.773675</td>\n",
              "      <td>-3.0900</td>\n",
              "      <td>4.18%</td>\n",
              "      <td>51.95</td>\n",
              "      <td>19.78</td>\n",
              "      <td>0 days</td>\n",
              "      <td>5</td>\n",
              "    </tr>\n",
              "    <tr>\n",
              "      <th>1</th>\n",
              "      <td>2018-03-01</td>\n",
              "      <td>64.9400</td>\n",
              "      <td>5.353666</td>\n",
              "      <td>3.3000</td>\n",
              "      <td>-1.99%</td>\n",
              "      <td>66.38</td>\n",
              "      <td>20.59</td>\n",
              "      <td>28 days</td>\n",
              "      <td>9</td>\n",
              "    </tr>\n",
              "    <tr>\n",
              "      <th>2</th>\n",
              "      <td>2018-06-01</td>\n",
              "      <td>74.1500</td>\n",
              "      <td>10.605609</td>\n",
              "      <td>7.1100</td>\n",
              "      <td>-14.86%</td>\n",
              "      <td>215.14</td>\n",
              "      <td>18.99</td>\n",
              "      <td>120 days</td>\n",
              "      <td>22</td>\n",
              "    </tr>\n",
              "    <tr>\n",
              "      <th>3</th>\n",
              "      <td>2018-08-01</td>\n",
              "      <td>69.9977</td>\n",
              "      <td>1.800029</td>\n",
              "      <td>1.2377</td>\n",
              "      <td>1.42%</td>\n",
              "      <td>38.66</td>\n",
              "      <td>19.23</td>\n",
              "      <td>181 days</td>\n",
              "      <td>31</td>\n",
              "    </tr>\n",
              "    <tr>\n",
              "      <th>4</th>\n",
              "      <td>2018-10-01</td>\n",
              "      <td>65.3100</td>\n",
              "      <td>-11.262622</td>\n",
              "      <td>-8.2892</td>\n",
              "      <td>-0.39%</td>\n",
              "      <td>56.19</td>\n",
              "      <td>20.58</td>\n",
              "      <td>242 days</td>\n",
              "      <td>40</td>\n",
              "    </tr>\n",
              "  </tbody>\n",
              "</table>\n",
              "</div>\n",
              "      <button class=\"colab-df-convert\" onclick=\"convertToInteractive('df-708c1560-c3f2-4783-abda-b69665a56d9f')\"\n",
              "              title=\"Convert this dataframe to an interactive table.\"\n",
              "              style=\"display:none;\">\n",
              "        \n",
              "  <svg xmlns=\"http://www.w3.org/2000/svg\" height=\"24px\"viewBox=\"0 0 24 24\"\n",
              "       width=\"24px\">\n",
              "    <path d=\"M0 0h24v24H0V0z\" fill=\"none\"/>\n",
              "    <path d=\"M18.56 5.44l.94 2.06.94-2.06 2.06-.94-2.06-.94-.94-2.06-.94 2.06-2.06.94zm-11 1L8.5 8.5l.94-2.06 2.06-.94-2.06-.94L8.5 2.5l-.94 2.06-2.06.94zm10 10l.94 2.06.94-2.06 2.06-.94-2.06-.94-.94-2.06-.94 2.06-2.06.94z\"/><path d=\"M17.41 7.96l-1.37-1.37c-.4-.4-.92-.59-1.43-.59-.52 0-1.04.2-1.43.59L10.3 9.45l-7.72 7.72c-.78.78-.78 2.05 0 2.83L4 21.41c.39.39.9.59 1.41.59.51 0 1.02-.2 1.41-.59l7.78-7.78 2.81-2.81c.8-.78.8-2.07 0-2.86zM5.41 20L4 18.59l7.72-7.72 1.47 1.35L5.41 20z\"/>\n",
              "  </svg>\n",
              "      </button>\n",
              "      \n",
              "  <style>\n",
              "    .colab-df-container {\n",
              "      display:flex;\n",
              "      flex-wrap:wrap;\n",
              "      gap: 12px;\n",
              "    }\n",
              "\n",
              "    .colab-df-convert {\n",
              "      background-color: #E8F0FE;\n",
              "      border: none;\n",
              "      border-radius: 50%;\n",
              "      cursor: pointer;\n",
              "      display: none;\n",
              "      fill: #1967D2;\n",
              "      height: 32px;\n",
              "      padding: 0 0 0 0;\n",
              "      width: 32px;\n",
              "    }\n",
              "\n",
              "    .colab-df-convert:hover {\n",
              "      background-color: #E2EBFA;\n",
              "      box-shadow: 0px 1px 2px rgba(60, 64, 67, 0.3), 0px 1px 3px 1px rgba(60, 64, 67, 0.15);\n",
              "      fill: #174EA6;\n",
              "    }\n",
              "\n",
              "    [theme=dark] .colab-df-convert {\n",
              "      background-color: #3B4455;\n",
              "      fill: #D2E3FC;\n",
              "    }\n",
              "\n",
              "    [theme=dark] .colab-df-convert:hover {\n",
              "      background-color: #434B5C;\n",
              "      box-shadow: 0px 1px 3px 1px rgba(0, 0, 0, 0.15);\n",
              "      filter: drop-shadow(0px 1px 2px rgba(0, 0, 0, 0.3));\n",
              "      fill: #FFFFFF;\n",
              "    }\n",
              "  </style>\n",
              "\n",
              "      <script>\n",
              "        const buttonEl =\n",
              "          document.querySelector('#df-708c1560-c3f2-4783-abda-b69665a56d9f button.colab-df-convert');\n",
              "        buttonEl.style.display =\n",
              "          google.colab.kernel.accessAllowed ? 'block' : 'none';\n",
              "\n",
              "        async function convertToInteractive(key) {\n",
              "          const element = document.querySelector('#df-708c1560-c3f2-4783-abda-b69665a56d9f');\n",
              "          const dataTable =\n",
              "            await google.colab.kernel.invokeFunction('convertToInteractive',\n",
              "                                                     [key], {});\n",
              "          if (!dataTable) return;\n",
              "\n",
              "          const docLinkHtml = 'Like what you see? Visit the ' +\n",
              "            '<a target=\"_blank\" href=https://colab.research.google.com/notebooks/data_table.ipynb>data table notebook</a>'\n",
              "            + ' to learn more about interactive tables.';\n",
              "          element.innerHTML = '';\n",
              "          dataTable['output_type'] = 'display_data';\n",
              "          await google.colab.output.renderOutput(dataTable, element);\n",
              "          const docLink = document.createElement('div');\n",
              "          docLink.innerHTML = docLinkHtml;\n",
              "          element.appendChild(docLink);\n",
              "        }\n",
              "      </script>\n",
              "    </div>\n",
              "  </div>\n",
              "  "
            ]
          },
          "metadata": {},
          "execution_count": 227
        }
      ]
    },
    {
      "cell_type": "markdown",
      "source": [
        "\n",
        "### xxx Nova seção"
      ],
      "metadata": {
        "id": "eBo8xmYQ7B3i"
      }
    },
    {
      "cell_type": "code",
      "source": [
        "#fig, ax = plt.subplots(figsize=(14,6))\n",
        "\n",
        "#yerr = []\n",
        "#ymean = []\n",
        "#for w in petro.week.unique():\n",
        "#  yerr.append(petro[petro.week == w]['price'].std())\n",
        "#  ymean.append(petro[petro.week == w]['price'].mean())\n",
        "#yerr = np.array(yerr)  \n",
        "#ymean = np.array(ymean) \n",
        "\n",
        "#plt.errorbar(petro.week.unique(), ymean, yerr=yerr, label='Tendência', marker='o', color='r', linewidth=1.2)\n",
        "#plt.scatter(petro.week, petro.price, label='Valores Mês', marker='o', color='orange', alpha=0.7, s=64)\n",
        "\n",
        "#plt.title(\"Tendência do Índice Preço do  Petróleo\", fontsize=14, weight='bold')\n",
        "#plt.xlabel(\"Mês\")\n",
        "#plt.ylabel(\"Pontos\")\n",
        "#plt.legend()\n",
        "\n",
        "#plt.show()"
      ],
      "metadata": {
        "colab": {
          "base_uri": "https://localhost:8080/",
          "height": 407
        },
        "id": "hvZthkpvqL3M",
        "outputId": "96776e20-909f-4b44-b816-181e364f1d78"
      },
      "execution_count": null,
      "outputs": [
        {
          "output_type": "display_data",
          "data": {
            "text/plain": [
              "<Figure size 1008x432 with 1 Axes>"
            ],
            "image/png": "[encoded data removed]"
          },
          "metadata": {
            "needs_background": "light"
          }
        }
      ]
    },
    {
      "cell_type": "markdown",
      "source": [
        "### xxx 2a. pergunta)  Qual é a tendência do preço do petróleo por semana?"
      ],
      "metadata": {
        "id": "jN_hh1wyqDYN"
      }
    },
    {
      "cell_type": "code",
      "source": [
        "#fig, ax = plt.subplots(figsize=(14,6))\n",
        "\n",
        "#plt.plot(np.array(petro.week.unique()), ymean, 'r-', label='Tendência', marker='o', linewidth=1.2, markersize=4)\n",
        "#plt.scatter(petro.week, petro.price, label='Valores Mês', marker='o',  alpha=0.5, s=64, color='orange')\n",
        "#for week in petro.week.unique():\n",
        "#  plt.boxplot(petro[petro.week == week].price, positions=[week], widths=0.15, flierprops=dict(color='r',markeredgecolor='r'),medianprops=dict(color='r'))\n",
        "\n",
        "#plt.title(\"Tendência do Índice Preço do Petróleo\", fontsize=14, weight='bold')\n",
        "#plt.xlabel(\"Mês\")\n",
        "#plt.ylabel(\"Pontos\")\n",
        "#plt.legend()\n",
        "\n",
        "#plt.show()"
      ],
      "metadata": {
        "colab": {
          "base_uri": "https://localhost:8080/",
          "height": 407
        },
        "id": "fnXjuEERs0tD",
        "outputId": "3b73e441-6572-4523-8fb9-c10138bdbaec"
      },
      "execution_count": null,
      "outputs": [
        {
          "output_type": "display_data",
          "data": {
            "text/plain": [
              "<Figure size 1008x432 with 1 Axes>"
            ],
            "image/png": "[encoded data removed]"
          },
          "metadata": {
            "needs_background": "light"
          }
        }
      ]
    },
    {
      "cell_type": "code",
      "source": [
        "display('head:',petro.head())"
      ],
      "metadata": {
        "colab": {
          "base_uri": "https://localhost:8080/",
          "height": 225
        },
        "id": "XIzrJxvZI4mj",
        "outputId": "befedafc-5e4c-467f-8e0e-b278896675b6"
      },
      "execution_count": null,
      "outputs": [
        {
          "output_type": "display_data",
          "data": {
            "text/plain": [
              "'head:'"
            ],
            "application/vnd.google.colaboratory.intrinsic+json": {
              "type": "string"
            }
          },
          "metadata": {}
        },
        {
          "output_type": "display_data",
          "data": {
            "text/plain": [
              "        date    price  percentChange  change Variacao   Volume     dias  week\n",
              "0 2018-02-01  61.6400      -4.773675 -3.0900    4.18%   51.95M   0 days     5\n",
              "1 2018-03-01  64.9400       5.353666  3.3000   -1.99%   66.38M  28 days     9\n",
              "2 2018-06-01  74.1500      10.605609  7.1100  -14.86%  215.14M 120 days    22\n",
              "3 2018-08-01  69.9977       1.800029  1.2377    1.42%   38.66M 181 days    31\n",
              "4 2018-10-01  65.3100     -11.262622 -8.2892   -0.39%   56.19M 242 days    40"
            ],
            "text/html": [
              "\n",
              "  <div id=\"df-fc657f4f-b0e0-4971-9314-bb396427ddd1\">\n",
              "    <div class=\"colab-df-container\">\n",
              "      <div>\n",
              "<style scoped>\n",
              "    .dataframe tbody tr th:only-of-type {\n",
              "        vertical-align: middle;\n",
              "    }\n",
              "\n",
              "    .dataframe tbody tr th {\n",
              "        vertical-align: top;\n",
              "    }\n",
              "\n",
              "    .dataframe thead th {\n",
              "        text-align: right;\n",
              "    }\n",
              "</style>\n",
              "<table border=\"1\" class=\"dataframe\">\n",
              "  <thead>\n",
              "    <tr style=\"text-align: right;\">\n",
              "      <th></th>\n",
              "      <th>date</th>\n",
              "      <th>price</th>\n",
              "      <th>percentChange</th>\n",
              "      <th>change</th>\n",
              "      <th>Variacao</th>\n",
              "      <th>Volume</th>\n",
              "      <th>dias</th>\n",
              "      <th>week</th>\n",
              "    </tr>\n",
              "  </thead>\n",
              "  <tbody>\n",
              "    <tr>\n",
              "      <th>0</th>\n",
              "      <td>2018-02-01</td>\n",
              "      <td>61.6400</td>\n",
              "      <td>-4.773675</td>\n",
              "      <td>-3.0900</td>\n",
              "      <td>4.18%</td>\n",
              "      <td>51.95M</td>\n",
              "      <td>0 days</td>\n",
              "      <td>5</td>\n",
              "    </tr>\n",
              "    <tr>\n",
              "      <th>1</th>\n",
              "      <td>2018-03-01</td>\n",
              "      <td>64.9400</td>\n",
              "      <td>5.353666</td>\n",
              "      <td>3.3000</td>\n",
              "      <td>-1.99%</td>\n",
              "      <td>66.38M</td>\n",
              "      <td>28 days</td>\n",
              "      <td>9</td>\n",
              "    </tr>\n",
              "    <tr>\n",
              "      <th>2</th>\n",
              "      <td>2018-06-01</td>\n",
              "      <td>74.1500</td>\n",
              "      <td>10.605609</td>\n",
              "      <td>7.1100</td>\n",
              "      <td>-14.86%</td>\n",
              "      <td>215.14M</td>\n",
              "      <td>120 days</td>\n",
              "      <td>22</td>\n",
              "    </tr>\n",
              "    <tr>\n",
              "      <th>3</th>\n",
              "      <td>2018-08-01</td>\n",
              "      <td>69.9977</td>\n",
              "      <td>1.800029</td>\n",
              "      <td>1.2377</td>\n",
              "      <td>1.42%</td>\n",
              "      <td>38.66M</td>\n",
              "      <td>181 days</td>\n",
              "      <td>31</td>\n",
              "    </tr>\n",
              "    <tr>\n",
              "      <th>4</th>\n",
              "      <td>2018-10-01</td>\n",
              "      <td>65.3100</td>\n",
              "      <td>-11.262622</td>\n",
              "      <td>-8.2892</td>\n",
              "      <td>-0.39%</td>\n",
              "      <td>56.19M</td>\n",
              "      <td>242 days</td>\n",
              "      <td>40</td>\n",
              "    </tr>\n",
              "  </tbody>\n",
              "</table>\n",
              "</div>\n",
              "      <button class=\"colab-df-convert\" onclick=\"convertToInteractive('df-fc657f4f-b0e0-4971-9314-bb396427ddd1')\"\n",
              "              title=\"Convert this dataframe to an interactive table.\"\n",
              "              style=\"display:none;\">\n",
              "        \n",
              "  <svg xmlns=\"http://www.w3.org/2000/svg\" height=\"24px\"viewBox=\"0 0 24 24\"\n",
              "       width=\"24px\">\n",
              "    <path d=\"M0 0h24v24H0V0z\" fill=\"none\"/>\n",
              "    <path d=\"M18.56 5.44l.94 2.06.94-2.06 2.06-.94-2.06-.94-.94-2.06-.94 2.06-2.06.94zm-11 1L8.5 8.5l.94-2.06 2.06-.94-2.06-.94L8.5 2.5l-.94 2.06-2.06.94zm10 10l.94 2.06.94-2.06 2.06-.94-2.06-.94-.94-2.06-.94 2.06-2.06.94z\"/><path d=\"M17.41 7.96l-1.37-1.37c-.4-.4-.92-.59-1.43-.59-.52 0-1.04.2-1.43.59L10.3 9.45l-7.72 7.72c-.78.78-.78 2.05 0 2.83L4 21.41c.39.39.9.59 1.41.59.51 0 1.02-.2 1.41-.59l7.78-7.78 2.81-2.81c.8-.78.8-2.07 0-2.86zM5.41 20L4 18.59l7.72-7.72 1.47 1.35L5.41 20z\"/>\n",
              "  </svg>\n",
              "      </button>\n",
              "      \n",
              "  <style>\n",
              "    .colab-df-container {\n",
              "      display:flex;\n",
              "      flex-wrap:wrap;\n",
              "      gap: 12px;\n",
              "    }\n",
              "\n",
              "    .colab-df-convert {\n",
              "      background-color: #E8F0FE;\n",
              "      border: none;\n",
              "      border-radius: 50%;\n",
              "      cursor: pointer;\n",
              "      display: none;\n",
              "      fill: #1967D2;\n",
              "      height: 32px;\n",
              "      padding: 0 0 0 0;\n",
              "      width: 32px;\n",
              "    }\n",
              "\n",
              "    .colab-df-convert:hover {\n",
              "      background-color: #E2EBFA;\n",
              "      box-shadow: 0px 1px 2px rgba(60, 64, 67, 0.3), 0px 1px 3px 1px rgba(60, 64, 67, 0.15);\n",
              "      fill: #174EA6;\n",
              "    }\n",
              "\n",
              "    [theme=dark] .colab-df-convert {\n",
              "      background-color: #3B4455;\n",
              "      fill: #D2E3FC;\n",
              "    }\n",
              "\n",
              "    [theme=dark] .colab-df-convert:hover {\n",
              "      background-color: #434B5C;\n",
              "      box-shadow: 0px 1px 3px 1px rgba(0, 0, 0, 0.15);\n",
              "      filter: drop-shadow(0px 1px 2px rgba(0, 0, 0, 0.3));\n",
              "      fill: #FFFFFF;\n",
              "    }\n",
              "  </style>\n",
              "\n",
              "      <script>\n",
              "        const buttonEl =\n",
              "          document.querySelector('#df-fc657f4f-b0e0-4971-9314-bb396427ddd1 button.colab-df-convert');\n",
              "        buttonEl.style.display =\n",
              "          google.colab.kernel.accessAllowed ? 'block' : 'none';\n",
              "\n",
              "        async function convertToInteractive(key) {\n",
              "          const element = document.querySelector('#df-fc657f4f-b0e0-4971-9314-bb396427ddd1');\n",
              "          const dataTable =\n",
              "            await google.colab.kernel.invokeFunction('convertToInteractive',\n",
              "                                                     [key], {});\n",
              "          if (!dataTable) return;\n",
              "\n",
              "          const docLinkHtml = 'Like what you see? Visit the ' +\n",
              "            '<a target=\"_blank\" href=https://colab.research.google.com/notebooks/data_table.ipynb>data table notebook</a>'\n",
              "            + ' to learn more about interactive tables.';\n",
              "          element.innerHTML = '';\n",
              "          dataTable['output_type'] = 'display_data';\n",
              "          await google.colab.output.renderOutput(dataTable, element);\n",
              "          const docLink = document.createElement('div');\n",
              "          docLink.innerHTML = docLinkHtml;\n",
              "          element.appendChild(docLink);\n",
              "        }\n",
              "      </script>\n",
              "    </div>\n",
              "  </div>\n",
              "  "
            ]
          },
          "metadata": {}
        }
      ]
    },
    {
      "cell_type": "markdown",
      "source": [
        "### 2a Pergunta) Qual é a tendência de alteração de preço do Petróleo x Ação da Petrobrás?\n",
        "\n",
        "🎢"
      ],
      "metadata": {
        "id": "hnNA4h1n4Fwy"
      }
    },
    {
      "cell_type": "code",
      "source": [
        "fig, ax = plt.subplots(figsize=(14,6))\n",
        "\n",
        "ax.plot(petro.date, petro.change, label='Petróleo', color='k', alpha=0.3)\n",
        "ax2 = ax.twinx() \n",
        "ax2.plot(petro.date, petro.Variacao, label='Ação', color='r', alpha=0.3)\n",
        "\n",
        "ax.set_title('Tendência do preço do Petróleo x Ação da Petrobrás', fontsize=14, weight='bold')\n",
        "ax.set_xlabel(\"date\")\n",
        "ax.set_ylabel(\"Valor (R$)\")\n",
        "ax2.set_ylabel(\"Pontos\")\n",
        "\n",
        "z = np.polyfit(petro.dias.dt.days,petro.price, 1)\n",
        "p = np.poly1d(z)\n",
        "ax.plot(petro.date,p(petro.dias.dt.days), linestyle='dashed', label='Linear Petróleo' ,linewidth=2, color='k')\n",
        "\n",
        "z = np.polyfit(petro.dias.dt.days,petro.price, 1)\n",
        "p = np.poly1d(z)\n",
        "ax2.plot(petro.date,p(petro.dias.dt.days), linestyle='dashed', label='Linear Ação' ,linewidth=2, color='r')\n",
        "\n",
        "ax.legend(loc='lower right',fontsize=12)\n",
        "ax2.legend(fontsize=12)\n",
        "\n",
        "import matplotlib.ticker as ticker\n",
        "ax.xaxis.set_major_locator(ticker.MaxNLocator(8))\n",
        "\n",
        "plt.show()"
      ],
      "metadata": {
        "colab": {
          "base_uri": "https://localhost:8080/",
          "height": 406
        },
        "id": "kZ0Ldh12Gi8r",
        "outputId": "74e32d57-9564-4738-d9f9-5325bb3320b5"
      },
      "execution_count": 228,
      "outputs": [
        {
          "output_type": "display_data",
          "data": {
            "text/plain": [
              "<Figure size 1008x432 with 2 Axes>"
            ],
            "image/png": "[encoded data removed]"
          },
          "metadata": {
            "needs_background": "light"
          }
        }
      ]
    },
    {
      "cell_type": "markdown",
      "source": [
        "Comentário: A tendência linear entre as ações e o preço do petróleo se aproximaram nos últimos anos.\n",
        ">\n",
        "O preço do petróleo ao longo dos anos teve muitas ocilações e com a guerra a tendencia e aumentar.\n",
        "As ações teve um crescimento ao longo dos anos, e atualmente está em queda devido a guerra.\n"
      ],
      "metadata": {
        "id": "0dVPvUNc4g2p"
      }
    },
    {
      "cell_type": "markdown",
      "source": [
        "### 3a. Pergunta) Qual é a maior variação de volume financeiro das ações da petrobrás?\n",
        "\n",
        "🎢"
      ],
      "metadata": {
        "id": "occq6toO9rfr"
      }
    },
    {
      "cell_type": "code",
      "source": [
        "fig, ax = plt.subplots(figsize=(14,6))\n",
        "ax.plot(petro.index, petro.Volume, label='Volume MM R$')\n",
        "ax.set_title('Tendência da variação do Volume financeiro das ações da Petrobrás', fontsize=14, weight='bold')\n",
        "ax.set_xlabel(\"date\")\n",
        "ax.set_ylabel(\"Valor milhoes (R$)\")\n",
        "\n",
        "z = np.polyfit(petro.index,petro.Volume, 1)\n",
        "p = np.poly1d(z)\n",
        "ax.plot(petro.index,p(petro.index), linestyle='dashed', label='Linear(x)' ,linewidth=2, color='k')\n",
        "ax.legend(fontsize=12)\n",
        "\n",
        "import matplotlib.ticker as ticker\n",
        "ax.xaxis.set_major_locator(ticker.MaxNLocator(5))\n",
        "ax.set_xticklabels(['',petro.iloc[0].date.date(),'',petro.iloc[10].date.date(),'',petro.iloc[20].date.date()])\n",
        "\n",
        "plt.show()"
      ],
      "metadata": {
        "colab": {
          "base_uri": "https://localhost:8080/",
          "height": 406
        },
        "id": "ZqCH2hCl9xYP",
        "outputId": "cf0d5f83-3f61-4d3d-f349-b5d45b43ab7c"
      },
      "execution_count": 234,
      "outputs": [
        {
          "output_type": "display_data",
          "data": {
            "text/plain": [
              "<Figure size 1008x432 with 1 Axes>"
            ],
            "image/png": "[encoded data removed]"
          },
          "metadata": {
            "needs_background": "light"
          }
        }
      ]
    },
    {
      "cell_type": "markdown",
      "source": [
        "Comentário: Houve um pico muito alto de aplicações em 2018, mas isso não ocorreu nos anos seguintes. A média foi bem abaixo ao longo dos anos.\n",
        "Em setembro/2020 houve um pico, mas caiu em seguida. \n",
        "O valor oscilando entre 50 a 100 milhões.\n",
        "A tendência e aumentar o volume financeiro devido a guerra."
      ],
      "metadata": {
        "id": "YneuuDqG-d-5"
      }
    },
    {
      "cell_type": "markdown",
      "source": [
        "### 4a Pergunta) Qual é a valor máximo no pregão das ações da petrobrás?"
      ],
      "metadata": {
        "id": "VL7c_YtM-n6-"
      }
    },
    {
      "cell_type": "code",
      "source": [
        "fig, ax = plt.subplots(figsize=(14,6))\n",
        "ax.plot(petro.index, petro.maxima, label='Volume R$')\n",
        "ax.set_title('Tendência do valor máximo no fechamento das ações da Petrobrás', fontsize=14, weight='bold')\n",
        "ax.set_xlabel(\"date\")\n",
        "ax.set_ylabel(\"Valor (R$)\")\n",
        "\n",
        "z = np.polyfit(petro.index,petro.maxima, 1)\n",
        "p = np.poly1d(z)\n",
        "ax.plot(petro.index,p(petro.index), linestyle='dashed', label='Linear(x)' ,linewidth=2, color='k')\n",
        "ax.legend(fontsize=12)\n",
        "\n",
        "import matplotlib.ticker as ticker\n",
        "ax.xaxis.set_major_locator(ticker.MaxNLocator(5))\n",
        "ax.set_xticklabels(['',petro.iloc[0].date.date(),'',petro.iloc[10].date.date(),'',petro.iloc[20].date.date()])\n",
        "\n",
        "plt.show()"
      ],
      "metadata": {
        "colab": {
          "base_uri": "https://localhost:8080/"
        },
        "id": "nUVmSEGT-sNy",
        "outputId": "0d6a33d5-c096-44e8-a032-2f1d3a7b83a2"
      },
      "execution_count": 236,
      "outputs": [
        {
          "output_type": "display_data",
          "data": {
            "text/plain": [
              "<Figure size 1008x432 with 1 Axes>"
            ],
            "image/png": "[encoded data removed]"
          },
          "metadata": {
            "needs_background": "light"
          }
        }
      ]
    },
    {
      "cell_type": "markdown",
      "source": [
        "Comentário:  O valor máximo no fechamento das ações oscila muito ao longo dos anos.\n",
        "No período de 2019 a meados de 2020 variou entre 20,00 a 15,00 a ação. No  momento está valendo 32,50. Este período de guerra pode derrubar as bolsas. "
      ],
      "metadata": {
        "id": "ltmkShr0-t-Y"
      }
    },
    {
      "cell_type": "markdown",
      "source": [
        "### Resumo "
      ],
      "metadata": {
        "id": "hSyLslS5_-b-"
      }
    },
    {
      "cell_type": "markdown",
      "source": [
        ""
      ],
      "metadata": {
        "id": "v_2CcePBAD2O"
      }
    }
  ],
  "metadata": {
    "colab": {
      "name": "trilha 4 - analise.ipynb",
      "provenance": [],
      "collapsed_sections": [
        "lNc2GMeYQSMA",
        "anWiyo4iTDG2",
        "mEex1mpGVnip",
        "ueKJI5N4WmeF",
        "2Dh_wjWeX_zx",
        "bK9kTgdyYbe5",
        "Av7ok0-qZr1d",
        "zbYBLaG2c4P8",
        "yLXOvdbNdQY6",
        "eBo8xmYQ7B3i",
        "jN_hh1wyqDYN",
        "hnNA4h1n4Fwy",
        "occq6toO9rfr",
        "VL7c_YtM-n6-",
        "hSyLslS5_-b-"
      ],
      "authorship_tag": "ABX9TyNQDgI0ma2oWJrJhElm5Z9o",
      "include_colab_link": true
    },
    "kernelspec": {
      "display_name": "Python 3",
      "name": "python3"
    },
    "language_info": {
      "name": "python"
    }
  },
  "nbformat": 4,
  "nbformat_minor": 0
}